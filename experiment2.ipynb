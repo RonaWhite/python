{
 "cells": [
  {
   "cell_type": "markdown",
   "metadata": {},
   "source": [
    "# 实验二 Python变量、简单数据类型\n",
    "\n",
    "班级： 21计科2班\n",
    "\n",
    "学号： B20210302217\n",
    "\n",
    "姓名： 刘青\n",
    "\n",
    "Github地址：<https://github.com/RonaWhite/python>\n",
    "\n",
    "CodeWars地址：<https://www.codewars.com/users/RonaWhite>\n",
    "\n",
    "---\n",
    "## 实验目的\n",
    "\n",
    "1. 使用VSCode编写和运行Python程序\n",
    "2. 学习Python变量和简单数据类型\n",
    "\n",
    "## 实验环境\n",
    "\n",
    "1. Git\n",
    "2. Python 3.10\n",
    "3. VSCode\n",
    "4. VSCode插件\n",
    "\n",
    "## 实验内容和步骤\n",
    "\n",
    "### 第一部分\n",
    "\n",
    "实验环境的安装\n",
    "\n",
    "1. 安装Python，从Python官网下载Python 3.10安装包，下载后直接点击可以安装：[Python官网地址](https://www.python.org/downloads/)\n",
    "2. 为了在VSCode集成环境下编写和运行Python程序，安装下列VScode插件\n",
    "   - Python\n",
    "   - Python Environment Manager\n",
    "   - Python Indent\n",
    "   - Python Extended\n",
    "   - Python Docstring Generator\n",
    "   - Jupyter\n",
    "   - indent-rainbow\n",
    "   - Jinja\n",
    "\n",
    "---\n",
    "\n",
    "### 第二部分\n",
    "\n",
    "Python变量、简单数据类型和列表简介\n",
    "\n",
    "完成教材《Python编程从入门到实践》下列章节的练习：\n",
    "\n",
    "- 第2章 变量和简单数据类型\n",
    "\n",
    "---\n",
    "\n",
    "### 第三部分\n",
    "\n",
    "在[Codewars网站](https://www.codewars.com)注册账号，完成下列Kata挑战：\n",
    "\n",
    "---\n",
    "\n",
    "#### 第1题：求离整数n最近的平方数（Find Nearest square number）\n",
    "\n",
    "难度：8kyu\n",
    "\n",
    "你的任务是找到一个正整数n的最近的平方数\n",
    "例如，如果n=111，那么nearest_sq(n)（nearestSq(n)）等于121，因为111比100（10的平方）更接近121（11的平方）。\n",
    "如果n已经是完全平方（例如n=144，n=81，等等），你需要直接返回n。\n",
    "代码提交地址\n",
    "<https://www.codewars.com/kata/5a805d8cafa10f8b930005ba>\n",
    "\n",
    "---\n",
    "\n",
    "#### 第2题：弹跳的球（Bouncing Balls）\n",
    "\n",
    "难度：6kyu\n",
    "\n",
    "一个孩子在一栋高楼的第N层玩球。这层楼离地面的高度h是已知的。他把球从窗口扔出去。球弹了起来,  例如:弹到其高度的三分之二（弹力为0.66）。他的母亲从离地面w米的窗户向外看,母亲会看到球在她的窗前经过多少次（包括球下落和反弹的时候）？\n",
    "\n",
    "一个有效的实验必须满足三个条件：\n",
    "\n",
    "- 参数 \"h\"（米）必须大于0\n",
    "- 参数 \"bounce \"必须大于0且小于1\n",
    "- 参数 “window \"必须小于h。\n",
    "\n",
    "如果以上三个条件都满足，返回一个正整数，否则返回-1。\n",
    "**注意:只有当反弹球的高度严格大于窗口参数时，才能看到球。**\n",
    "代码提交地址\n",
    "<https://www.codewars.com/kata/5544c7a5cb454edb3c000047/train/python>\n",
    "\n",
    "---\n",
    "\n",
    "#### 第3题： 元音统计(Vowel Count)\n",
    "\n",
    "难度： 7kyu\n",
    "\n",
    "返回给定字符串中元音的数量（计数）。对于这个Kata，我们将考虑a、e、i、o、u作为元音（但不包括y）。输入的字符串将只由小写字母和/或空格组成。\n",
    "\n",
    "代码提交地址：\n",
    "<https://www.codewars.com/kata/54ff3102c1bad923760001f3>\n",
    "\n",
    "---\n",
    "\n",
    "#### 第4题：偶数或者奇数（Even or Odd）\n",
    "\n",
    "难度：8kyu\n",
    "\n",
    "创建一个函数接收一个整数作为参数，当整数为偶数时返回”Even”当整数位奇数时返回”Odd”。\n",
    "代码提交地址：\n",
    "<https://www.codewars.com/kata/53da3dbb4a5168369a0000fe>\n",
    "\n",
    "### 第四部分\n",
    "\n",
    "使用Mermaid绘制程序流程图\n",
    "\n",
    "安装Mermaid的VSCode插件：\n",
    "\n",
    "- Markdown Preview Mermaid Support\n",
    "- Mermaid Markdown Syntax Highlighting\n",
    "\n",
    "使用Markdown语法绘制你的程序绘制程序流程图（至少一个），Markdown代码如下：\n",
    "\n",
    "![程序流程图](img/image1.png)\n",
    "\n",
    "显示效果如下：\n",
    "\n",
    "```mermaid\n",
    "flowchart LR\n",
    "    A[Start] --> B{Is it?}\n",
    "    B -->|Yes| C[OK]\n",
    "    C --> D[Rethink]\n",
    "    D --> B\n",
    "    B ---->|No| E[End]\n",
    "```\n",
    "\n",
    "查看Mermaid流程图语法-->[点击这里](https://mermaid.js.org/syntax/flowchart.html)\n",
    "\n",
    "使用Markdown编辑器（例如VScode）编写本次实验的实验报告，包括[实验过程与结果](#实验过程与结果)、[实验考查](#实验考查)和[实验总结](#实验总结)，并将其导出为 **PDF格式** 来提交。\n",
    "\n",
    "## 实验过程与结果\n",
    "\n",
    "### 一、变量和简单数据类型练习"
   ]
  },
  {
   "cell_type": "code",
   "execution_count": 1,
   "metadata": {},
   "outputs": [
    {
     "name": "stdout",
     "output_type": "stream",
     "text": [
      "Hello World!\n"
     ]
    }
   ],
   "source": [
    "# 2-1 简单消息\n",
    "tmp = \"Hello World!\"\n",
    "print(tmp)"
   ]
  },
  {
   "cell_type": "code",
   "execution_count": 2,
   "metadata": {},
   "outputs": [
    {
     "name": "stdout",
     "output_type": "stream",
     "text": [
      "Hello World!\n",
      "Hello Python!\n"
     ]
    }
   ],
   "source": [
    "# 2-2 多条简单消息\n",
    "tmp = \"Hello World!\"\n",
    "print(tmp)\n",
    "\n",
    "tmp = \"Hello Python!\"\n",
    "print(tmp)"
   ]
  },
  {
   "cell_type": "code",
   "execution_count": 3,
   "metadata": {},
   "outputs": [
    {
     "name": "stdout",
     "output_type": "stream",
     "text": [
      "Hello Eric, would you like to learn some Python today?\n"
     ]
    }
   ],
   "source": [
    "# 2-3 个性化消息：\n",
    "name = \"Eric\"\n",
    "message = \"Hello \" + name.title() + \", would you like to learn some Python today?\"\n",
    "print(message)"
   ]
  },
  {
   "cell_type": "code",
   "execution_count": 4,
   "metadata": {},
   "outputs": [
    {
     "name": "stdout",
     "output_type": "stream",
     "text": [
      "Rona\n",
      "RONA\n",
      "rona\n"
     ]
    }
   ],
   "source": [
    "# 2-4 调整名字的大小写\n",
    "name = \"Rona\"\n",
    "print(name.title())   \n",
    "print(name.upper())   \n",
    "print(name.lower())     "
   ]
  },
  {
   "cell_type": "code",
   "execution_count": 5,
   "metadata": {},
   "outputs": [
    {
     "name": "stdout",
     "output_type": "stream",
     "text": [
      "Albert Einstein once said, \"A person who never made a mistake never tried anything new.\"\n"
     ]
    }
   ],
   "source": [
    "# 2-5 名言1\n",
    "first_name = \"Albert\"\n",
    "last_name = \"Einstein\"\n",
    "full_name = first_name.title() + \" \" + last_name.title()\n",
    "message = full_name + ' once said, \"A person who never made a mistake never tried anything new.\"'\n",
    "print(message)"
   ]
  },
  {
   "cell_type": "code",
   "execution_count": 6,
   "metadata": {},
   "outputs": [
    {
     "name": "stdout",
     "output_type": "stream",
     "text": [
      "Albert Einstein once said,\"A person who never made a mistake never tried anything new.\"\n"
     ]
    }
   ],
   "source": [
    "# 2-6 名言2\n",
    "famous_person =\"Albert Einstein\"\n",
    "message = \"A person who never made a mistake never tried anything new.\"\n",
    "print (famous_person+' once said,\"'+ message +'\"')"
   ]
  },
  {
   "cell_type": "code",
   "execution_count": 14,
   "metadata": {},
   "outputs": [
    {
     "name": "stdout",
     "output_type": "stream",
     "text": [
      "原始人名: \n",
      "\tJohn Doe\t \n",
      "\n",
      "使用lstrip()剔除开头的空白： John Doe\t \n",
      "\n",
      "使用rstrip()剔除末尾的空白: \n",
      "\tJohn Doe\n",
      "使用strip()剔除开头和末尾的空白： John Doe\n"
     ]
    }
   ],
   "source": [
    "# 2-7 剔除人名中的空白\n",
    "person_name = \"\\n\\tJohn Doe\\t\\n\"\n",
    "\n",
    "# 打印带有开头和末尾空白的人名\n",
    "print(\"原始人名:\", person_name)\n",
    "\n",
    "# 使用lstrip()剔除开头的空白\n",
    "person_name_lstrip = person_name.lstrip()\n",
    "print(\"使用lstrip()剔除开头的空白：\", person_name_lstrip)\n",
    "\n",
    "# 使用rstrip()剔除末尾的空白\n",
    "person_name_rstrip = person_name.rstrip()\n",
    "print(\"使用rstrip()剔除末尾的空白:\", person_name_rstrip)\n",
    "\n",
    "# 使用strip()剔除开头和末尾的空白\n",
    "person_name_strip = person_name.strip()\n",
    "print(\"使用strip()剔除开头和末尾的空白：\", person_name_strip)"
   ]
  },
  {
   "cell_type": "code",
   "execution_count": 15,
   "metadata": {},
   "outputs": [
    {
     "name": "stdout",
     "output_type": "stream",
     "text": [
      "File name without extension: python_notes\n"
     ]
    }
   ],
   "source": [
    "# 2-8 文件扩展名\n",
    "filename = \"python_notes.txt\"\n",
    "filename_without_extension = filename.removesuffix(\".txt\")\n",
    "\n",
    "print(\"File name without extension:\", filename_without_extension)"
   ]
  },
  {
   "cell_type": "code",
   "execution_count": 17,
   "metadata": {},
   "outputs": [
    {
     "name": "stdout",
     "output_type": "stream",
     "text": [
      "8\n",
      "8\n",
      "8\n",
      "8\n"
     ]
    }
   ],
   "source": [
    "# 2-9 数字8\n",
    "print(4+4)\n",
    "print(10-2)\n",
    "print(2*4)\n",
    "print(16//2)"
   ]
  },
  {
   "cell_type": "code",
   "execution_count": 18,
   "metadata": {},
   "outputs": [
    {
     "name": "stdout",
     "output_type": "stream",
     "text": [
      "我最喜欢的数是17\n"
     ]
    }
   ],
   "source": [
    "# 2-10 最喜欢的数\n",
    "number = 17\n",
    "message = \"我最喜欢的数是\"+str(number)\n",
    "print(message)"
   ]
  },
  {
   "cell_type": "code",
   "execution_count": 19,
   "metadata": {},
   "outputs": [
    {
     "name": "stdout",
     "output_type": "stream",
     "text": [
      "The Zen of Python, by Tim Peters\n",
      "\n",
      "Beautiful is better than ugly.\n",
      "Explicit is better than implicit.\n",
      "Simple is better than complex.\n",
      "Complex is better than complicated.\n",
      "Flat is better than nested.\n",
      "Sparse is better than dense.\n",
      "Readability counts.\n",
      "Special cases aren't special enough to break the rules.\n",
      "Although practicality beats purity.\n",
      "Errors should never pass silently.\n",
      "Unless explicitly silenced.\n",
      "In the face of ambiguity, refuse the temptation to guess.\n",
      "There should be one-- and preferably only one --obvious way to do it.\n",
      "Although that way may not be obvious at first unless you're Dutch.\n",
      "Now is better than never.\n",
      "Although never is often better than *right* now.\n",
      "If the implementation is hard to explain, it's a bad idea.\n",
      "If the implementation is easy to explain, it may be a good idea.\n",
      "Namespaces are one honking great idea -- let's do more of those!\n"
     ]
    }
   ],
   "source": [
    "# 2-12 Python之禅\n",
    "import this"
   ]
  },
  {
   "cell_type": "markdown",
   "metadata": {},
   "source": [
    "### 二、Codewars Kata挑战\n",
    "#### 第1题：求离整数n最近的平方数（Find Nearest square number）\n",
    "你的任务是找到一个正整数n的最近的平方数\n",
    "例如，如果n=111，那么nearest_sq(n)（nearestSq(n)）等于121，因为111比100（10的平方）更接近121（11的平方）。\n",
    "如果n已经是完全平方（例如n=144，n=81，等等），你需要直接返回n。\n",
    "\n",
    "代码如下：\n",
    "```python\n",
    "import math  # 导入math模块以便使用数学函数\n",
    "\n",
    "def nearest_sq(n):\n",
    "    # 计算n的平方根\n",
    "    sqrt_n = math.isqrt(n)\n",
    "    \n",
    "    # 检查最接近n的两个平方数：sqrt_n^2 和 (sqrt_n + 1)^2\n",
    "    lower_square = sqrt_n ** 2  # 小于或等于n的最大平方数\n",
    "    upper_square = (sqrt_n + 1) ** 2  # 大于n的最小平方数\n",
    "    \n",
    "    # 返回最接近的平方数\n",
    "    if abs(n - lower_square) <= abs(n - upper_square):\n",
    "        return lower_square\n",
    "    else:\n",
    "        return upper_square\n",
    "```\n",
    "**解题过程描述：**  \n",
    "- 首先导入 `math` 模块，该模块提供了各种数学函数和常量。\n",
    "- `nearest_sq` 函数接受一个参数 `n`，代表一个数字。\n",
    "- 在函数内部：\n",
    "  - 使用 `math.isqrt()` 计算 `n` 的整数平方根，并将其存储在 `sqrt_n` 中。\n",
    "  - 通过对 `sqrt_n` 和 `sqrt_n + 1` 求平方来找到离 `n` 最近的较小和较大的平方数。\n",
    "  - 根据 `n` 与两个最接近的平方数之间的绝对差来返回最接近的平方数。如果与较小平方的差小于或等于与较大平方的差，则返回较小平方；否则返回较大平方。\n",
    "\n",
    "#### 第2题：弹跳的球（Bouncing Balls）\n",
    "一个孩子在一栋高楼的第N层玩球。这层楼离地面的高度h是已知的。他把球从窗口扔出去。球弹了起来,  例如:弹到其高度的三分之二（弹力为0.66）。他的母亲从离地面w米的窗户向外看,母亲会看到球在她的窗前经过多少次（包括球下落和反弹的时候）？\n",
    "\n",
    "一个有效的实验必须满足三个条件：\n",
    "\n",
    "- 参数 \"h\"（米）必须大于0\n",
    "- 参数 \"bounce \"必须大于0且小于1\n",
    "- 参数 “window \"必须小于h。\n",
    "\n",
    "如果以上三个条件都满足，返回一个正整数，否则返回-1。\n",
    "**注意:只有当反弹球的高度严格大于窗口参数时，才能看到球。**  \n",
    "\n",
    "代码如下：\n",
    "```python\n",
    "def bouncing_ball(h, bounce, window):\n",
    "    # 检查输入条件是否有效\n",
    "    if not (h > 0 and 0 < bounce < 1 and window < h):\n",
    "        return -1\n",
    "    \n",
    "    passes = 0  # 记录通过窗户的次数\n",
    "    \n",
    "    while h > window:\n",
    "        passes += 1  # 小球在下落时通过窗户\n",
    "        h *= bounce  # 小球弹起\n",
    "        \n",
    "        if h > window:\n",
    "            passes += 1  # 小球在弹起时通过窗户\n",
    "        \n",
    "    return passes\n",
    "```\n",
    "**解题过程描述：**  \n",
    "- 定义一个名为 `bouncing_ball` 的函数，该函数接受三个参数：小球初始高度 `h`、弹跳系数 `bounce`、窗户高度 `window`。\n",
    "- 首先，检查输入条件是否有效，包括初始高度必须大于零，弹跳系数必须在0到1之间，窗户高度必须小于初始高度。如果条件无效，函数返回-1，表示无法计算。\n",
    "- 创建变量 `passes` 用于记录小球通过窗户的次数，初始化为0。\n",
    "- 使用循环判断小球是否还能通过窗户。如果小球高度大于窗户高度，进入循环。\n",
    "- 在循环中，每次小球通过窗户时，`passes` 计数加1，然后小球弹起（高度乘以弹跳系数 `bounce`）。\n",
    "- 如果小球再次高于窗户，说明小球在弹起时也通过了窗户，所以再次将 `passes` 加1。\n",
    "- 循环继续，直到小球无法通过窗户为止。\n",
    "- 返回通过窗户的次数 `passes`。\n",
    "\n",
    "#### 第3题： 元音统计(Vowel Count)\n",
    "返回给定字符串中元音的数量（计数）。对于这个Kata，我们将考虑a、e、i、o、u作为元音（但不包括y）。输入的字符串将只由小写字母和/或空格组成。\n",
    "\n",
    "代码如下：\n",
    "```python\n",
    "def get_count(sentence): \n",
    "    # 定义元音字母集合\n",
    "    vowels = {'a', 'e', 'i', 'o', 'u'}\n",
    "\n",
    "    # 初始化计数器\n",
    "    count = 0\n",
    "\n",
    "    # 遍历字符串中的每个字符\n",
    "    for char in sentence:\n",
    "        # 如果字符是元音字母，计数器加1\n",
    "        if char in vowels:\n",
    "            count += 1\n",
    "\n",
    "    return count\n",
    "```\n",
    "**解题过程描述：**  \n",
    "- 定义一个名为 `get_count` 的函数，该函数接受一个字符串参数 `sentence`。\n",
    "- 创建集合 `vowels`，其中包含所有的元音字母。\n",
    "- 初始化计数器 `count` 为0，用于记录元音字母的数量。\n",
    "- 使用 `for` 循环遍历输入字符串中的每个字符。\n",
    "- 在循环中，对于每个字符，检查它是否在元音字母集合中。\n",
    "- 如果字符是元音字母，将计数器 `count` 加1。\n",
    "- 循环结束后，返回计数器 `count`，即输入字符串中的元音字母数量。\n",
    "\n",
    "#### 第4题：偶数或者奇数（Even or Odd）\n",
    "\n",
    "创建一个函数接收一个整数作为参数，当整数为偶数时返回\"Even\"当整数位奇数时返回\"Odd\"。\n",
    "\n",
    "代码如下：\n",
    "```python\n",
    "def even_or_odd(number):\n",
    "    # 检查给定的数字是否为偶数\n",
    "    if number % 2 == 0:\n",
    "        return \"Even\"  # 如果是偶数，返回字符串 \"Even\"\n",
    "    else:\n",
    "        return \"Odd\"  # 如果是奇数，返回字符串 \"Odd\"\n",
    "```\n",
    "\n",
    "**解题过程描述：** \n",
    "- 定义一个名为 `even_or_odd` 的函数，该函数接受一个参数 `number`，代表一个整数。\n",
    "- 在函数内部，使用条件判断语句 `if` 来检查给定的数字是否是偶数。\n",
    "- 如果 `number` 取模 2 的结果为0，即 `number` 是偶数，那么返回字符串 \"Even\" 表示偶数。\n",
    "- 否则，即 `number` 是奇数，返回字符串 \"Odd\" 表示奇数。\n",
    "\n",
    "### 三、使用Mermaid绘制程序流程图\n",
    "\n",
    "```mermaid\n",
    "flowchart LR\n",
    "    A[开始] --> B[导入\n",
    "                math模块]\n",
    "    B --> C[定义nearest_sq\n",
    "            函数]\n",
    "    C --> D[接受参数 n]\n",
    "    D --> E{计算n的\n",
    "    平方根}\n",
    "    E -->|存储在 sqrt_n 中| F[计算 sqrt_n]\n",
    "    F --> G{找到离n最近\n",
    "    的平方数}\n",
    "    G -->|返回最接近\n",
    "    的平方数| H[返回最接近\n",
    "    的平方数]\n",
    "    H --> I[结束]\n",
    "```\n",
    "\n",
    "\n",
    "## 实验考查\n",
    "\n",
    "**1. Python中的简单数据类型有那些？我们可以对这些数据类型做哪些操作？**\n",
    "\n",
    "Python中的简单数据类型包括：\n",
    "   - 整数(int): 表示整数，如 `-10`、`0`、`42`。\n",
    "   - 浮点数(float): 表示带有小数点的数，如 `3.14`、`-0.001`。\n",
    "   - 布尔值(bool): 表示逻辑值，只能是 `True` 或 `False`。\n",
    "   - 字符串(str): 表示文本，用单引号或双引号括起来，如 `'hello'`、`\"Python\"`。\n",
    "\n",
    "对这些数据类型可以进行的操作包括：\n",
    "   - 整数和浮点数可以进行基本的数学运算，如加减乘除(`+`, `-`, `*`, `/`)。\n",
    "   - 可以进行逻辑运算，包括与(`and`), 或(`or`), 非(`not`)。\n",
    "   - 可以进行比较运算，如大于(`>`), 小于(`<`), 等于(`==`)等。\n",
    "   - 字符串可以进行拼接，即将两个字符串连接起来。\n",
    "   - 字符串可以进行切片，即获取字符串中的子串。\n",
    "   - 字符串可以进行格式化，将变量的值插入到字符串中特定的位置。\n",
    "\n",
    "**2. 为什么说Python中的变量都是标签？**\n",
    "在Python中，变量被视为标签或者名称，而不是内存中实际存储数据的容器。\n",
    "- 这是因为Python的变量实际上是对象的引用，它们指向内存中的对象。\n",
    "- Python采用的是一种被称为\"对象-引用模型\"的编程范式。当创建一个变量并将其赋值给某个值时，实际上是创建一个对象并将该对象的引用赋给变量。变量本身并不存储数据，它只是指向内存中存储数据的对象。\n",
    "\n",
    "**3. 有哪些方法可以提高Python代码的可读性？**\n",
    "提高Python代码的可读性是至关重要的，可以通过以下方法实现：\n",
    "\n",
    "1. **遵循PEP 8风格指南：** PEP 8是Python的官方风格指南，遵循这些规范可以使代码保持一致且易读。\n",
    "\n",
    "2. **良好的命名规范：** 使用有意义且描述性强的变量名、函数名、类名等。避免使用单个字符或不具有明确含义的命名。\n",
    "\n",
    "3. **注释清晰明了：** 添加适当的注释，解释代码的功能、逻辑、算法等。尤其是对于复杂的代码块或解决特定问题的代码，注释非常重要。\n",
    "\n",
    "4. **模块化和函数化：** 将代码分解为模块和函数，每个函数或模块应专注于完成一个特定的任务。模块和函数的名字应反映其功能。\n",
    "\n",
    "5. **适当的缩进和格式化：** 使用一致的缩进风格（通常是4个空格），确保代码整齐、易读。\n",
    "\n",
    "6. **合理的代码结构：** 将相关的代码放在一起，组织成逻辑清晰、易于理解的结构。\n",
    "\n",
    "7. **避免过长的代码行：** 控制代码行的长度，一般推荐不超过80-100个字符。\n",
    "\n",
    "8. **使用空行分隔代码块：** 使用空行将代码划分成逻辑上相关的块，提高代码的可读性。\n",
    "\n",
    "9. **注重代码逻辑清晰：** 确保代码逻辑清晰，避免复杂嵌套和过于复杂的表达式。\n",
    "\n",
    "10. **利用文档字符串（docstring）：** 为函数、类和模块编写清晰的文档字符串，描述其用途、参数、返回值等。\n",
    "\n",
    "11. **使用空格和空行：** 在适当的地方使用空格和空行，使代码结构更清晰。\n",
    "\n",
    "12. **考虑代码复用和维护性：** 设计代码时考虑到代码的复用性和未来的维护需求，使代码易于维护和扩展。\n",
    "\n",
    "通过遵循这些方法，可以显著提高Python代码的可读性，使其更易于理解、维护和共享。\n",
    "\n",
    "## 实验总结\n",
    "\n",
    "总结一下这次实验你学习和使用到的知识，例如：编程工具的使用、数据结构、程序语言的语法、算法、编程技巧、编程思想。\n"
   ]
  }
 ],
 "metadata": {
  "kernelspec": {
   "display_name": "Python 3",
   "language": "python",
   "name": "python3"
  },
  "language_info": {
   "codemirror_mode": {
    "name": "ipython",
    "version": 3
   },
   "file_extension": ".py",
   "mimetype": "text/x-python",
   "name": "python",
   "nbconvert_exporter": "python",
   "pygments_lexer": "ipython3",
   "version": "3.11.5"
  },
  "orig_nbformat": 4
 },
 "nbformat": 4,
 "nbformat_minor": 2
}
