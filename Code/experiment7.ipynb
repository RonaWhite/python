{
 "cells": [
  {
   "cell_type": "markdown",
   "metadata": {},
   "source": [
    "### 第一部分 Python面向对象编程\n",
    "#### 第九章 类\n",
    "#### 9-1 餐馆"
   ]
  },
  {
   "cell_type": "code",
   "execution_count": 1,
   "metadata": {},
   "outputs": [
    {
     "name": "stdout",
     "output_type": "stream",
     "text": [
      "beijing restaurant,traditional food\n",
      "\n",
      "Restaurant name: Beijing Restaurant\n",
      "Cuisine name: Traditional Food\n",
      "\n",
      "Beijing Restaurant is opening\n"
     ]
    }
   ],
   "source": [
    "class Restaurant():\n",
    "    def __init__(self, restaurant_name, cuisine_name):\n",
    "        self.restaurant_name = restaurant_name\n",
    "        self.cuisine_name = cuisine_name\n",
    "\n",
    "    def describe_restaurant(self):\n",
    "        print(\"\\nRestaurant name: \" + self.restaurant_name.title())\n",
    "        print(\"Cuisine name: \" + self.cuisine_name.title())\n",
    "\n",
    "    def open_restaurant(self):\n",
    "        print(\"\\n\" + self.restaurant_name.title() + \" is opening\")\n",
    "\n",
    "\n",
    "restaurant = Restaurant('beijing restaurant', 'traditional food')\n",
    "print(restaurant.restaurant_name + \",\" + restaurant.cuisine_name)\n",
    "restaurant.describe_restaurant()\n",
    "restaurant.open_restaurant()"
   ]
  },
  {
   "cell_type": "markdown",
   "metadata": {},
   "source": [
    "#### 9-2 三家餐馆"
   ]
  },
  {
   "cell_type": "code",
   "execution_count": 2,
   "metadata": {},
   "outputs": [
    {
     "name": "stdout",
     "output_type": "stream",
     "text": [
      "\n",
      "Restaurant name: Beijing Restaurant\n",
      "Cuisine name: Beijing Food\n",
      "\n",
      "Restaurant name: Lanzhou Restaurant\n",
      "Cuisine name: Lanzhou Food\n",
      "\n",
      "Restaurant name: Sichuan Restaurant\n",
      "Cuisine name: Sichuan Food\n"
     ]
    }
   ],
   "source": [
    "class Restaurant:\n",
    "    def __init__(self, restaurant_name, cuisine_name):\n",
    "        self.restaurant_name = restaurant_name\n",
    "        self.cuisine_name = cuisine_name\n",
    "\n",
    "    def describe_restaurant(self):\n",
    "        print(\"\\nRestaurant name: \" + self.restaurant_name.title())\n",
    "        print(\"Cuisine name: \" + self.cuisine_name.title())\n",
    "\n",
    "    def open_restaurant(self):\n",
    "        print(\"\\n\" + self.restaurant_name.title() + \" is opening\")\n",
    "\n",
    "\n",
    "beijing_restaurant = Restaurant('beijing restaurant', 'beijing food')\n",
    "lanzhou_restaurant = Restaurant('lanzhou restaurant', 'lanzhou food')\n",
    "sichuan_restaurant = Restaurant('sichuan restaurant', 'sichuan food')\n",
    "\n",
    "beijing_restaurant.describe_restaurant()\n",
    "lanzhou_restaurant.describe_restaurant()\n",
    "sichuan_restaurant.describe_restaurant()"
   ]
  },
  {
   "cell_type": "markdown",
   "metadata": {},
   "source": [
    "#### 9-3 用户"
   ]
  },
  {
   "cell_type": "code",
   "execution_count": 3,
   "metadata": {},
   "outputs": [
    {
     "name": "stdout",
     "output_type": "stream",
     "text": [
      "\n",
      "User info:\n",
      "\tName: Zhang San\n",
      "\tAge: 22\n",
      "\tLocation: Shanghai\n",
      "\n",
      "Hi, Zhang San! Nice to see you again!\n",
      "\n",
      "User info:\n",
      "\tName: Li Si\n",
      "\tAge: 33\n",
      "\tLocation: Beijing\n",
      "\n",
      "Hi, Li Si! Nice to see you again!\n",
      "\n",
      "User info:\n",
      "\tName: Wang Wu\n",
      "\tAge: 44\n",
      "\tLocation: Sichuan\n",
      "\n",
      "Hi, Wang Wu! Nice to see you again!\n"
     ]
    }
   ],
   "source": [
    "class User:\n",
    "    def __init__(self, first, last, age, location):\n",
    "        self.first_name = first\n",
    "        self.last_name = last\n",
    "        self.age = age\n",
    "        self.location = location\n",
    "\n",
    "    def describe_user(self):\n",
    "        print(\"\\nUser info:\")\n",
    "        name = self.last_name.title() + \" \" + self.first_name.title()\n",
    "        print(\"\\tName: \" + name)\n",
    "        print(\"\\tAge: \" + str(self.age))\n",
    "        print(\"\\tLocation: \" + self.location.title())\n",
    "\n",
    "    def greet_user(self):\n",
    "        name = self.last_name.title() + \" \" + self.first_name.title()\n",
    "        print(\"\\nHi, \" + name + \"! Nice to see you again!\")\n",
    "\n",
    "\n",
    "zhangsan = User('san', 'zhang', 22, 'shanghai')\n",
    "lisi = User('si', 'li', 33, 'beijing')\n",
    "wangwu = User('wu', 'wang', 44, 'sichuan')\n",
    "\n",
    "zhangsan.describe_user()\n",
    "zhangsan.greet_user()\n",
    "lisi.describe_user()\n",
    "lisi.greet_user()\n",
    "wangwu.describe_user()\n",
    "wangwu.greet_user()"
   ]
  },
  {
   "cell_type": "markdown",
   "metadata": {},
   "source": [
    "#### 9-4 就餐人数"
   ]
  },
  {
   "cell_type": "code",
   "execution_count": 4,
   "metadata": {},
   "outputs": [
    {
     "name": "stdout",
     "output_type": "stream",
     "text": [
      "0\n",
      "10\n",
      "Number served: 20\n",
      "Number wanter to serve: 30\n"
     ]
    }
   ],
   "source": [
    "class Restaurant:\n",
    "    def __init__(self, restaurant_name, cuisine_name):\n",
    "        self.restaurant_name = restaurant_name\n",
    "        self.cuisine_name = cuisine_name\n",
    "        self.number_served = 0\n",
    "\n",
    "    def describe_restaurant(self):\n",
    "        print(\"\\nRestaurant name: \" + self.restaurant_name.title())\n",
    "        print(\"Cuisine name: \" + self.cuisine_name.title())\n",
    "        print(\"Number served: \" + str(self.number_served))\n",
    "\n",
    "    def open_restaurant(self):\n",
    "        print(\"\\n\" + self.restaurant_name.title() + \" is opening\")\n",
    "\n",
    "    def set_number_served(self, number):\n",
    "        self.number_served = number\n",
    "        print(\"Number served: \" + str(self.number_served))\n",
    "\n",
    "    def increment_number_served(self, number):\n",
    "        self.number_served = number\n",
    "        print(\"Number wanter to serve: \" + str(self.number_served))\n",
    "\n",
    "\n",
    "restaurant = Restaurant('beijing restaurant', 'traditional food')\n",
    "print(restaurant.number_served)\n",
    "restaurant.number_served = 10\n",
    "print(restaurant.number_served)\n",
    "\n",
    "restaurant.set_number_served(20)\n",
    "restaurant.increment_number_served(30)"
   ]
  },
  {
   "cell_type": "markdown",
   "metadata": {},
   "source": [
    "#### 9-5 尝试登录次数"
   ]
  },
  {
   "cell_type": "code",
   "execution_count": 5,
   "metadata": {},
   "outputs": [
    {
     "name": "stdout",
     "output_type": "stream",
     "text": [
      "10\n",
      "0\n"
     ]
    }
   ],
   "source": [
    "class User:\n",
    "    def __init__(self, first, last, age, location):\n",
    "        self.first_name = first\n",
    "        self.last_name = last\n",
    "        self.age = age\n",
    "        self.location = location\n",
    "        self.login_attempts = 0\n",
    "\n",
    "    def describe_user(self):\n",
    "        print(\"\\nUser info:\")\n",
    "        name = self.last_name.title() + \" \" + self.first_name.title()\n",
    "        print(\"\\tName: \" + name)\n",
    "        print(\"\\tAge: \" + str(self.age))\n",
    "        print(\"\\tLocation: \" + self.location.title())\n",
    "\n",
    "    def greet_user(self):\n",
    "        name = self.last_name.title() + \" \" + self.first_name.title()\n",
    "        print(\"\\nHi, \" + name + \"! Nice to see you again!\")\n",
    "\n",
    "    def increment_login_attempts(self):\n",
    "        self.login_attempts += 1\n",
    "\n",
    "    def reset_login_attempts(self):\n",
    "        self.login_attempts = 0\n",
    "\n",
    "\n",
    "user = User('san', 'zhang', 22, 'shanghai')\n",
    "for i in range(10):\n",
    "    user.increment_login_attempts()\n",
    "print(user.login_attempts)\n",
    "user.reset_login_attempts()\n",
    "print(user.login_attempts)"
   ]
  },
  {
   "cell_type": "markdown",
   "metadata": {},
   "source": [
    "#### 9-6 冰淇淋小店"
   ]
  },
  {
   "cell_type": "code",
   "execution_count": 6,
   "metadata": {},
   "outputs": [
    {
     "name": "stdout",
     "output_type": "stream",
     "text": [
      "\n",
      "Different flavors in Love Live Icecream:\n",
      "\tChocolate IceCream\n",
      "\tStrawberry IceCream\n",
      "\tVanilla IceCream\n"
     ]
    }
   ],
   "source": [
    "class Restaurant:\n",
    "    def __init__(self, restaurant_name, cuisine_name):\n",
    "        self.restaurant_name = restaurant_name\n",
    "        self.cuisine_name = cuisine_name\n",
    "        self.number_served = 0\n",
    "\n",
    "    def describe_restaurant(self):\n",
    "        print(\"\\nRestaurant name: \" + self.restaurant_name.title())\n",
    "        print(\"Cuisine name: \" + self.cuisine_name.title())\n",
    "        print(\"Number served: \" + str(self.number_served))\n",
    "\n",
    "    def open_restaurant(self):\n",
    "        print(\"\\n\" + self.restaurant_name.title() + \" is opening\")\n",
    "\n",
    "    def set_number_served(self, number):\n",
    "        self.number_served = number\n",
    "\n",
    "\n",
    "class IceCreamStand(Restaurant):\n",
    "    def __init__(self, restaurant_name, cuisine_name):\n",
    "        super(IceCreamStand, self).__init__(restaurant_name, cuisine_name)\n",
    "        self.flavors = ['chocolate', 'strawberry', 'vanilla']\n",
    "\n",
    "    def show_flavors(self):\n",
    "        print(\"\\nDifferent flavors in \" + self.restaurant_name.title() + \":\")\n",
    "        for flavor in self.flavors:\n",
    "            print(\"\\t\" + flavor.title() + \" IceCream\")\n",
    "\n",
    "\n",
    "icecreamStand = IceCreamStand('love live icecream', 'ice cuisine')\n",
    "icecreamStand.show_flavors()"
   ]
  },
  {
   "cell_type": "markdown",
   "metadata": {},
   "source": [
    "#### 9-7 管理员"
   ]
  },
  {
   "cell_type": "code",
   "execution_count": 7,
   "metadata": {},
   "outputs": [
    {
     "name": "stdout",
     "output_type": "stream",
     "text": [
      "\n",
      "Hello, Zhao Liu! You have the following privileges:\n",
      "\tCan Add Post\n",
      "\tCan Delete Post\n",
      "\tCan Ban User\n"
     ]
    }
   ],
   "source": [
    "class User:\n",
    "    def __init__(self, first, last, age, location):\n",
    "        self.first_name = first\n",
    "        self.last_name = last\n",
    "        self.age = age\n",
    "        self.location = location\n",
    "        self.login_attempts = 0\n",
    "\n",
    "    def describe_user(self):\n",
    "        print(\"\\nUser info:\")\n",
    "        name = self.last_name.title() + \" \" + self.first_name.title()\n",
    "        print(\"\\tName: \" + name)\n",
    "        print(\"\\tAge: \" + str(self.age))\n",
    "        print(\"\\tLocation: \" + self.location.title())\n",
    "\n",
    "    def greet_user(self):\n",
    "        name = self.last_name.title() + \" \" + self.first_name.title()\n",
    "        print(\"\\nHi, \" + name + \"! Nice to see you again!\")\n",
    "\n",
    "    def increment_login_attempts(self):\n",
    "        self.login_attempts += 1\n",
    "\n",
    "    def reset_login_attempts(self):\n",
    "        self.login_attempts = 0\n",
    "\n",
    "\n",
    "class Admin(User):\n",
    "    def __init__(self, first, last, age, location):\n",
    "        super().__init__(first, last, age, location)\n",
    "        self.privileges = [\"can add post\", \"can delete post\", \"can ban user\"]\n",
    "\n",
    "    def show_privileges(self):\n",
    "        name = self.last_name.title() + \" \" + self.first_name.title()\n",
    "        print(\"\\nHello, \" + name + \"! You have the following privileges:\")\n",
    "        for privilege in self.privileges:\n",
    "            print(\"\\t\" + privilege.title())\n",
    "\n",
    "\n",
    "admin = Admin('liu', 'zhao', '18', 'chengdu')\n",
    "admin.show_privileges()"
   ]
  },
  {
   "cell_type": "markdown",
   "metadata": {},
   "source": [
    "#### 9-8 权限"
   ]
  },
  {
   "cell_type": "code",
   "execution_count": 8,
   "metadata": {},
   "outputs": [
    {
     "name": "stdout",
     "output_type": "stream",
     "text": [
      "You have the following privileges:\n",
      "\tCan Add Post\n",
      "\tCan Delete Post\n",
      "\tCan Ban User\n"
     ]
    }
   ],
   "source": [
    "class Privileges:\n",
    "    def __init__(self):\n",
    "        self.privileges = [\"can add post\", \"can delete post\", \"can ban user\"]\n",
    "\n",
    "    def show_privileges(self):\n",
    "        print(\"You have the following privileges:\")\n",
    "        for privilege in self.privileges:\n",
    "            print(\"\\t\" + privilege.title())\n",
    "\n",
    "\n",
    "class User:\n",
    "    def __init__(self, first, last, age, location):\n",
    "        self.first_name = first\n",
    "        self.last_name = last\n",
    "        self.age = age\n",
    "        self.location = location\n",
    "        self.login_attempts = 0\n",
    "\n",
    "    def describe_user(self):\n",
    "        print(\"\\nUser info:\")\n",
    "        name = self.last_name.title() + \" \" + self.first_name.title()\n",
    "        print(\"\\tName: \" + name)\n",
    "        print(\"\\tAge: \" + str(self.age))\n",
    "        print(\"\\tLocation: \" + self.location.title())\n",
    "\n",
    "    def greet_user(self):\n",
    "        name = self.last_name.title() + \" \" + self.first_name.title()\n",
    "        print(\"\\nHi, \" + name + \"! Nice to see you again!\")\n",
    "\n",
    "    def increment_login_attempts(self):\n",
    "        self.login_attempts += 1\n",
    "\n",
    "    def reset_login_attempts(self):\n",
    "        self.login_attempts = 0\n",
    "\n",
    "\n",
    "class Admin(User):\n",
    "    def __init__(self, first, last, age, location):\n",
    "        super().__init__(first, last, age, location)\n",
    "        self.privileges = Privileges()\n",
    "\n",
    "\n",
    "admin = Admin('liu', 'zhao', '18', 'chengdu')\n",
    "admin.privileges.show_privileges()"
   ]
  },
  {
   "cell_type": "markdown",
   "metadata": {},
   "source": [
    "#### 9-9 电瓶升级"
   ]
  },
  {
   "cell_type": "code",
   "execution_count": 9,
   "metadata": {},
   "outputs": [
    {
     "name": "stdout",
     "output_type": "stream",
     "text": [
      "This car can go approximately 240 miles on a full charge.\n",
      "This car can go approximately 270 miles on a full charge.\n"
     ]
    }
   ],
   "source": [
    "class Battery:\n",
    "    def __init__(self, battery_size=70):\n",
    "        self.battery_size = battery_size\n",
    "\n",
    "    def describe_battery(self):\n",
    "        print(\"This car has a \" + str(self.battery_size) + \"-kwh battery.\")\n",
    "\n",
    "    def get_range(self):\n",
    "        if self.battery_size == 70:\n",
    "            range = 240\n",
    "        elif self.battery_size == 85:\n",
    "            range = 270\n",
    "\n",
    "        message = \"This car can go approximately \" + str(range) + \" miles on a full charge.\"\n",
    "        print(message)\n",
    "\n",
    "    def upgrade_battery(self):\n",
    "        if self.battery_size != 85:\n",
    "            self.battery_size = 85\n",
    "\n",
    "\n",
    "class Car:\n",
    "    def __init__(self, make, model, year):\n",
    "        self.make = make\n",
    "        self.model = model\n",
    "        self.year = year\n",
    "        self.odometer_reading = 0\n",
    "\n",
    "    def get_descriptive_name(self):\n",
    "        long_name = str(self.year) + ' ' + self.make + ' ' + self.model\n",
    "        return long_name.title()\n",
    "\n",
    "    def read_odometer(self):\n",
    "        print(\"This car has \" + str(self.odometer_reading) + \" miles on it.\")\n",
    "\n",
    "    def update_odometer(self, mileage):\n",
    "        if mileage >= self.odometer_reading:\n",
    "            self.odometer_reading = mileage\n",
    "        else:\n",
    "            print(\"You can't roll back an odometer!\")\n",
    "\n",
    "    def increment_odometer(self, miles):\n",
    "        self.odometer_reading += miles\n",
    "\n",
    "\n",
    "class ElectricCar(Car):\n",
    "    def __init__(self, make, model, year):\n",
    "        super().__init__(make, model, year)\n",
    "        self.battery = Battery()\n",
    "\n",
    "\n",
    "my_car = ElectricCar('tesla', 'model s', '2022')\n",
    "# print(my_car.get_descriptive_name())\n",
    "# my_car.battery.describe_battery()\n",
    "my_car.battery.get_range()\n",
    "my_car.battery.upgrade_battery()\n",
    "# my_car.battery.describe_battery()\n",
    "my_car.battery.get_range()"
   ]
  },
  {
   "cell_type": "markdown",
   "metadata": {},
   "source": [
    "#### 9-10 导入Restaurant类"
   ]
  },
  {
   "cell_type": "code",
   "execution_count": null,
   "metadata": {},
   "outputs": [],
   "source": [
    "class Restaurant:\n",
    "    def __init__(self, restaurant_name, cuisine_name):\n",
    "        self.restaurant_name = restaurant_name\n",
    "        self.cuisine_name = cuisine_name\n",
    "        self.number_served = 0\n",
    "\n",
    "    def describe_restaurant(self):\n",
    "        print(\"\\nRestaurant name: \" + self.restaurant_name.title())\n",
    "        print(\"Cuisine name: \" + self.cuisine_name.title())\n",
    "        print(\"Number served: \" + str(self.number_served))\n",
    "\n",
    "    def open_restaurant(self):\n",
    "        print(\"\\n\" + self.restaurant_name.title() + \" is opening\")\n",
    "\n",
    "    def set_number_served(self, number):\n",
    "        self.number_served = number"
   ]
  },
  {
   "cell_type": "code",
   "execution_count": null,
   "metadata": {},
   "outputs": [],
   "source": [
    "from restaurant import Restaurant\n",
    "\n",
    "restaurant = Restaurant('beijing restaurant', 'traditional food')\n",
    "print(restaurant.restaurant_name + \",\" + restaurant.cuisine_name)\n",
    "restaurant.describe_restaurant()\n",
    "restaurant.open_restaurant()"
   ]
  },
  {
   "cell_type": "markdown",
   "metadata": {},
   "source": [
    "#### 9-11 导入Admin类\n",
    "user_privileges_admin.py："
   ]
  },
  {
   "cell_type": "code",
   "execution_count": null,
   "metadata": {},
   "outputs": [],
   "source": [
    "class Privileges:\n",
    "    def __init__(self):\n",
    "        self.privileges = [\"can add post\", \"can delete post\", \"can ban user\"]\n",
    "\n",
    "    def show_privileges(self):\n",
    "        print(\"\\nYou have the following privileges:\")\n",
    "        for privilege in self.privileges:\n",
    "            print(\"\\t\" + privilege.title())\n",
    "\n",
    "\n",
    "class User:\n",
    "    def __init__(self, first, last, age, location):\n",
    "        self.first_name = first\n",
    "        self.last_name = last\n",
    "        self.age = age\n",
    "        self.location = location\n",
    "        self.login_attempts = 0\n",
    "\n",
    "    def describe_user(self):\n",
    "        print(\"\\nUser info:\")\n",
    "        name = self.last_name.title() + \" \" + self.first_name.title()\n",
    "        print(\"\\tName: \" + name)\n",
    "        print(\"\\tAge: \" + str(self.age))\n",
    "        print(\"\\tLocation: \" + self.location.title())\n",
    "\n",
    "    def greet_user(self):\n",
    "        name = self.last_name.title() + \" \" + self.first_name.title()\n",
    "        print(\"\\nHi, \" + name + \"! Nice to see you again!\")\n",
    "\n",
    "    def increment_login_attempts(self):\n",
    "        self.login_attempts += 1\n",
    "\n",
    "    def reset_login_attempts(self):\n",
    "        self.login_attempts = 0\n",
    "\n",
    "\n",
    "class Admin(User):\n",
    "    def __init__(self, first, last, age, location):\n",
    "        super().__init__(first, last, age, location)\n",
    "        self.privileges = Privileges()"
   ]
  },
  {
   "cell_type": "markdown",
   "metadata": {},
   "source": [
    "#### 9-12 多个模块\n",
    "\n",
    "user.py："
   ]
  },
  {
   "cell_type": "code",
   "execution_count": null,
   "metadata": {},
   "outputs": [],
   "source": [
    "class User:\n",
    "    def __init__(self, first, last, age, location):\n",
    "        self.first_name = first\n",
    "        self.last_name = last\n",
    "        self.age = age\n",
    "        self.location = location\n",
    "        self.login_attempts = 0\n",
    "\n",
    "    def describe_user(self):\n",
    "        print(\"\\nUser info:\")\n",
    "        name = self.last_name.title() + \" \" + self.first_name.title()\n",
    "        print(\"\\tName: \" + name)\n",
    "        print(\"\\tAge: \" + str(self.age))\n",
    "        print(\"\\tLocation: \" + self.location.title())\n",
    "\n",
    "    def greet_user(self):\n",
    "        name = self.last_name.title() + \" \" + self.first_name.title()\n",
    "        print(\"\\nHi, \" + name + \"! Nice to see you again!\")\n",
    "\n",
    "    def increment_login_attempts(self):\n",
    "        self.login_attempts += 1\n",
    "\n",
    "    def reset_login_attempts(self):\n",
    "        self.login_attempts = 0"
   ]
  },
  {
   "cell_type": "markdown",
   "metadata": {},
   "source": [
    "privileges_admin.py："
   ]
  },
  {
   "cell_type": "code",
   "execution_count": null,
   "metadata": {},
   "outputs": [],
   "source": [
    "from user import User\n",
    "\n",
    "\n",
    "class Privileges:\n",
    "    def __init__(self):\n",
    "        self.privileges = [\"can add post\", \"can delete post\", \"can ban user\"]\n",
    "\n",
    "    def show_privileges(self):\n",
    "        print(\"\\nYou have the following privileges:\")\n",
    "        for privilege in self.privileges:\n",
    "            print(\"\\t\" + privilege.title())\n",
    "\n",
    "\n",
    "class Admin(User):\n",
    "    def __init__(self, first, last, age, location):\n",
    "        super().__init__(first, last, age, location)\n",
    "        self.privileges = Privileges()"
   ]
  },
  {
   "cell_type": "code",
   "execution_count": null,
   "metadata": {},
   "outputs": [],
   "source": [
    "from privileges_admin import Admin\n",
    "\n",
    "\n",
    "admin = Admin('liu', 'zhao', '18', 'chengdu')\n",
    "admin.privileges.show_privileges()"
   ]
  },
  {
   "cell_type": "markdown",
   "metadata": {},
   "source": [
    "#### 9-13 使用OrderedDict"
   ]
  },
  {
   "cell_type": "code",
   "execution_count": 2,
   "metadata": {},
   "outputs": [
    {
     "name": "stdout",
     "output_type": "stream",
     "text": [
      "accumulator:累加器\n",
      "algorithm:算法\n",
      "array:数组\n",
      "branch:分支\n",
      "breakpoint:断点\n"
     ]
    }
   ],
   "source": [
    "from collections import OrderedDict\n",
    "\n",
    "\n",
    "vocabulary = OrderedDict()\n",
    "\n",
    "vocabulary['accumulator'] = '累加器'\n",
    "vocabulary['algorithm'] = '算法'\n",
    "vocabulary['array'] = '数组'\n",
    "vocabulary['branch'] = '分支'\n",
    "vocabulary['breakpoint'] = '断点'\n",
    "\n",
    "for word, meaning in vocabulary.items():\n",
    "    print(word + \":\" + meaning)"
   ]
  },
  {
   "cell_type": "markdown",
   "metadata": {},
   "source": [
    "#### 9-14 骰子"
   ]
  },
  {
   "cell_type": "code",
   "execution_count": 3,
   "metadata": {},
   "outputs": [
    {
     "name": "stdout",
     "output_type": "stream",
     "text": [
      "\n",
      "The results of a 6-sized die:\n",
      "2\n",
      "6\n",
      "2\n",
      "6\n",
      "4\n",
      "4\n",
      "6\n",
      "5\n",
      "2\n",
      "6\n",
      "\n",
      "The results of a 10-sized die:\n",
      "4\n",
      "2\n",
      "8\n",
      "1\n",
      "9\n",
      "10\n",
      "7\n",
      "6\n",
      "9\n",
      "7\n",
      "\n",
      "The results of a 20-sized die:\n",
      "19\n",
      "7\n",
      "14\n",
      "8\n",
      "19\n",
      "18\n",
      "6\n",
      "14\n",
      "3\n",
      "4\n"
     ]
    }
   ],
   "source": [
    "from random import randint\n",
    "x = randint(1, 6)\n",
    "\n",
    "from random import randint\n",
    "\n",
    "\n",
    "class Die:\n",
    "    def __init__(self, sides=6):\n",
    "        self.sides = sides\n",
    "\n",
    "    def roll_die(self):\n",
    "        x = randint(1, self.sides)\n",
    "        print(x)\n",
    "\n",
    "\n",
    "die_6 = Die()\n",
    "print(\"\\nThe results of a 6-sized die:\")\n",
    "for i in range(10):\n",
    "    die_6.roll_die()\n",
    "\n",
    "die_10 = Die(sides=10)\n",
    "print(\"\\nThe results of a 10-sized die:\")\n",
    "for i in range(10):\n",
    "    die_10.roll_die()\n",
    "\n",
    "die_20 = Die(sides=20)\n",
    "print(\"\\nThe results of a 20-sized die:\")\n",
    "for i in range(10):\n",
    "    die_20.roll_die()"
   ]
  },
  {
   "cell_type": "markdown",
   "metadata": {},
   "source": [
    "#### 9-15 Python Module of the Week"
   ]
  },
  {
   "cell_type": "code",
   "execution_count": 4,
   "metadata": {},
   "outputs": [
    {
     "name": "stdout",
     "output_type": "stream",
     "text": [
      "The time is      : Tue Dec  5 20:29:19 2023\n",
      "15 secs from now : Tue Dec  5 20:29:34 2023\n"
     ]
    }
   ],
   "source": [
    "import time\n",
    "\n",
    "print('The time is      :', time.ctime())\n",
    "later = time.time() + 15\n",
    "print('15 secs from now :', time.ctime(later))"
   ]
  },
  {
   "cell_type": "markdown",
   "metadata": {},
   "source": [
    "### 第二部分 Codewars Kata挑战\n",
    "\n",
    "#### 第一题: 面向对象的海盗"
   ]
  },
  {
   "cell_type": "code",
   "execution_count": 5,
   "metadata": {},
   "outputs": [],
   "source": [
    "class Ship:\n",
    "    def __init__(self, draft, crew):\n",
    "        self.draft = draft\n",
    "        self.crew = crew\n",
    "    \n",
    "    def is_worth_it(self):\n",
    "        ship_weight_without_crew = self.draft - (self.crew * 1.5)\n",
    "        return ship_weight_without_crew > 20"
   ]
  },
  {
   "cell_type": "markdown",
   "metadata": {},
   "source": [
    "#### 第二题：搭建积木"
   ]
  },
  {
   "cell_type": "code",
   "execution_count": 6,
   "metadata": {},
   "outputs": [],
   "source": [
    "class Block:\n",
    "    def __init__(self, dimensions):\n",
    "        # 初始化方法，接受一个包含三个整数的数组 [width, length, height]\n",
    "        self.width = dimensions[0]  # 设置宽度\n",
    "        self.length = dimensions[1]  # 设置长度\n",
    "        self.height = dimensions[2]  # 设置高度\n",
    "\n",
    "    def get_width(self):\n",
    "        # 返回 Block 的宽度\n",
    "        return self.width\n",
    "\n",
    "    def get_length(self):\n",
    "        # 返回 Block 的长度\n",
    "        return self.length\n",
    "\n",
    "    def get_height(self):\n",
    "        # 返回 Block 的高度\n",
    "        return self.height\n",
    "\n",
    "    def get_volume(self):\n",
    "        # 返回 Block 的体积（宽 × 长 × 高）\n",
    "        return self.width * self.length * self.height\n",
    "\n",
    "    def get_surface_area(self):\n",
    "        # 返回 Block 的表面积（2 × (宽 × 长 + 宽 × 高 + 长 × 高)）\n",
    "        return 2 * (self.width * self.length + self.width * self.height + self.length * self.height)"
   ]
  },
  {
   "cell_type": "markdown",
   "metadata": {},
   "source": [
    "#### 第三题：分页助手"
   ]
  },
  {
   "cell_type": "code",
   "execution_count": 7,
   "metadata": {},
   "outputs": [],
   "source": [
    "class PaginationHelper:\n",
    "    def __init__(self, collection, items_per_page):\n",
    "        # 初始化方法，接受一个值数组和每页允许的项数\n",
    "        self.collection = collection\n",
    "        self.items_per_page = items_per_page\n",
    "\n",
    "    def item_count(self):\n",
    "        # 返回值数组的总项数\n",
    "        return len(self.collection)\n",
    "\n",
    "    def page_count(self):\n",
    "        # 返回值数组可以分成的总页数\n",
    "        return -(-len(self.collection) // self.items_per_page)\n",
    "\n",
    "    def page_item_count(self, page_index):\n",
    "        # 返回特定页的项数，若页数无效则返回-1\n",
    "        if page_index < 0 or page_index >= self.page_count():\n",
    "            return -1\n",
    "        if page_index == self.page_count() - 1:\n",
    "            return len(self.collection) % self.items_per_page or self.items_per_page\n",
    "        return self.items_per_page\n",
    "\n",
    "    def page_index(self, item_index):\n",
    "        # 根据项的索引返回所在页数，若索引无效则返回-1\n",
    "        if item_index < 0 or item_index >= len(self.collection):\n",
    "            return -1\n",
    "        return item_index // self.items_per_page"
   ]
  },
  {
   "cell_type": "markdown",
   "metadata": {},
   "source": [
    "#### 第四题：向量（Vector）类"
   ]
  },
  {
   "cell_type": "code",
   "execution_count": 8,
   "metadata": {},
   "outputs": [],
   "source": [
    "import math\n",
    "\n",
    "class Vector:\n",
    "    def __init__(self, lst):\n",
    "        self.lst = lst\n",
    "\n",
    "    def __str__(self):\n",
    "        # 返回向量的字符串表示形式\n",
    "        return '(' + ','.join(map(str, self.lst)) + ')'\n",
    "\n",
    "    def equals(self, other):\n",
    "        # 检查两个向量的分量是否相等\n",
    "        return self.lst == other.lst\n",
    "\n",
    "    def add(self, other):\n",
    "        # 向量加法操作\n",
    "        if len(self.lst) != len(other.lst):\n",
    "            raise ValueError(\"Vectors must have the same length\")\n",
    "        return Vector([x + y for x, y in zip(self.lst, other.lst)])\n",
    "\n",
    "    def subtract(self, other):\n",
    "        # 向量减法操作\n",
    "        if len(self.lst) != len(other.lst):\n",
    "            raise ValueError(\"Vectors must have the same length\")\n",
    "        return Vector([x - y for x, y in zip(self.lst, other.lst)])\n",
    "\n",
    "    def dot(self, other):\n",
    "        # 向量点乘操作\n",
    "        if len(self.lst) != len(other.lst):\n",
    "            raise ValueError(\"Vectors must have the same length\")\n",
    "        return sum(x * y for x, y in zip(self.lst, other.lst))\n",
    "\n",
    "    def norm(self):\n",
    "        # 计算向量的范数\n",
    "        return math.sqrt(sum(x**2 for x in self.lst))"
   ]
  },
  {
   "cell_type": "markdown",
   "metadata": {},
   "source": [
    "#### 第五题：Codewars风格的等级系统"
   ]
  },
  {
   "cell_type": "code",
   "execution_count": 9,
   "metadata": {},
   "outputs": [],
   "source": [
    "class User:\n",
    "    def __init__(self):\n",
    "        # 用户可能的排名列表\n",
    "        self.RANKS = [-8, -7, -6, -5, -4, -3, -2, -1, 1, 2, 3, 4, 5, 6, 7, 8]\n",
    "        # 用户的当前排名\n",
    "        self.rank = -8\n",
    "        # 用户当前排名在 RANKS 列表中的索引\n",
    "        self.rank_index = 0\n",
    "        # 用户当前的进度\n",
    "        self.progress = 0\n",
    "        \n",
    "    def inc_progress(self, rank):\n",
    "        # 获取传入排名在 RANKS 列表中的索引\n",
    "        rank_index = self.RANKS.index(rank)\n",
    "        \n",
    "        # 根据排名差异来更新用户的进度\n",
    "        if rank_index == self.rank_index:\n",
    "            self.progress += 3\n",
    "        elif rank_index == self.rank_index - 1:\n",
    "            self.progress += 1\n",
    "        elif rank_index > self.rank_index:\n",
    "            difference = rank_index - self.rank_index\n",
    "            self.progress += 10 * difference * difference\n",
    "            \n",
    "        # 处理用户的进度超过100的情况\n",
    "        while self.progress >= 100:\n",
    "            self.rank_index += 1\n",
    "            self.rank = self.RANKS[self.rank_index]\n",
    "            self.progress -= 100    \n",
    "        \n",
    "        # 当用户达到最高排名时，进度归零并结束函数\n",
    "        if self.rank == 8:\n",
    "            self.progress = 0\n",
    "            return"
   ]
  }
 ],
 "metadata": {
  "kernelspec": {
   "display_name": "Python 3",
   "language": "python",
   "name": "python3"
  },
  "language_info": {
   "codemirror_mode": {
    "name": "ipython",
    "version": 3
   },
   "file_extension": ".py",
   "mimetype": "text/x-python",
   "name": "python",
   "nbconvert_exporter": "python",
   "pygments_lexer": "ipython3",
   "version": "3.12.0"
  }
 },
 "nbformat": 4,
 "nbformat_minor": 2
}
