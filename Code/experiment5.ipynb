{
 "cells": [
  {
   "cell_type": "markdown",
   "metadata": {},
   "source": [
    "### 第一部分 Codewars Kata挑战\n",
    "\n",
    "#### 第一题:停止逆转我的单词"
   ]
  },
  {
   "cell_type": "code",
   "execution_count": 1,
   "metadata": {},
   "outputs": [],
   "source": [
    "def spin_words(sentence):\n",
    "    # 将句子分割成单词\n",
    "    words = sentence.split()\n",
    "    \n",
    "    # 遍历单词并反转长度大于等于5的单词\n",
    "    for i in range(len(words)):\n",
    "        if len(words[i]) >= 5:\n",
    "            words[i] = words[i][::-1]  # 反转单词\n",
    "    \n",
    "    # 将反转后的单词用空格重新拼接成一个字符串\n",
    "    result = ' '.join(words)\n",
    "    \n",
    "    return result"
   ]
  },
  {
   "cell_type": "markdown",
   "metadata": {},
   "source": [
    "#### 第二题: 发现离群的数(Find The Parity Outlier)"
   ]
  },
  {
   "cell_type": "code",
   "execution_count": 2,
   "metadata": {},
   "outputs": [],
   "source": [
    "def find_outlier(int):\n",
    "    # 保存所有奇数\n",
    "    odds = [x for x in int if x%2!=0]\n",
    "    \n",
    "    # 保存所有偶数\n",
    "    evens= [x for x in int if x%2==0]\n",
    "    \n",
    "    # 比较偶数列表和奇数列表的长度，返回长度较小的列表的第一个元素\n",
    "    return odds[0] if len(odds)<len(evens) else evens[0]"
   ]
  },
  {
   "cell_type": "markdown",
   "metadata": {},
   "source": [
    "#### 第三题: 检测Pangram"
   ]
  },
  {
   "cell_type": "code",
   "execution_count": 3,
   "metadata": {},
   "outputs": [],
   "source": [
    "def is_pangram(s):\n",
    "    # 将字符串转换为小写\n",
    "    s = s.lower()\n",
    "    \n",
    "    # 遍历所有小写字母，如果有字母不在字符串中，返回False\n",
    "    for char in 'abcdefghijklmnopqrstuvwxyz':\n",
    "        if char not in s:\n",
    "            return False\n",
    "        \n",
    "    # 遍历结束，说明所有字母都在字符串中，返回True\n",
    "    return True"
   ]
  },
  {
   "cell_type": "markdown",
   "metadata": {},
   "source": [
    "#### 第四题: 数独解决方案验证"
   ]
  },
  {
   "cell_type": "code",
   "execution_count": 4,
   "metadata": {},
   "outputs": [],
   "source": [
    "def validate_sudoku(board):\n",
    "    \n",
    "    # 利用集合进行比较 {1,2,3,4,5,6,7,8,9}\n",
    "    elements = set(range(1, 10))\n",
    "    \n",
    "    # row\n",
    "    for b in board:\n",
    "        if set(b) != elements: \n",
    "            return False\n",
    "    \n",
    "    # column\n",
    "    for b in zip(*board):   # zip(*board) 可以将矩阵转置\n",
    "        if set(b) != elements: \n",
    "            return False\n",
    "    \n",
    "    # magic squares\n",
    "    for i in range(3, 10, 3):\n",
    "        for j in range(3, 10, 3):\n",
    "            if elements != {(board[q][w]) for w in range(j-3, j) for q in range(i-3, i)}:\n",
    "                return False\n",
    "            \n",
    "    return True"
   ]
  },
  {
   "cell_type": "markdown",
   "metadata": {},
   "source": [
    "#### 第五题: 疯狂的彩色三角形"
   ]
  },
  {
   "cell_type": "code",
   "execution_count": 5,
   "metadata": {},
   "outputs": [
    {
     "name": "stdout",
     "output_type": "stream",
     "text": [
      "R\n",
      "B\n",
      "G\n"
     ]
    }
   ],
   "source": [
    "fac = [1, 1, 2]\n",
    "\n",
    "# 计算组合数 C(n, m) 在模3下的结果，inv(x) 表示取反，即0->0, 1->2, 2->1\n",
    "def C(n, m):\n",
    "    # 如果 n 小于 m，则返回 0\n",
    "    if n < m:\n",
    "        return 0\n",
    "    # 返回组合数结果，注意取模3\n",
    "    return fac[n] * fac[m] * fac[n - m] % 3\n",
    "\n",
    "# 计算 Lucas 序列的第 n 项，n 和 m 是非负整数\n",
    "def Lucas(n, m):\n",
    "    ans = 1\n",
    "    while m and ans:\n",
    "        ans, n, m = ans * C(n % 3, m % 3) % 3, n // 3, m // 3\n",
    "    return ans\n",
    "\n",
    "# 计算最后一行的颜色\n",
    "def triangle(row):\n",
    "    i, ans, n = 0, 0, len(row) - 1\n",
    "    # 如果只有一个字符，直接返回\n",
    "    if not n:\n",
    "        return row\n",
    "    for c in row:\n",
    "        # 更新 ans 和 i，根据字符的颜色计算 Lucas 序列的值\n",
    "        ans, i = ans + (0 if c == 'R' else 1 if c == 'G' else 2) * Lucas(n, i), i + 1\n",
    "    # 根据 ans 的值确定最终的颜色\n",
    "    ans = (3 - ans % 3 if n & 1 else ans) % 3\n",
    "    return 'R' if ans == 0 else 'G' if ans == 1 else 'B'\n",
    "\n",
    "# 测试例子\n",
    "print(triangle('GB'))       # 输出 'R'\n",
    "print(triangle('RGBG'))     # 输出 'B'\n",
    "print(triangle('RBRGBRB'))  # 输出 'G'"
   ]
  }
 ],
 "metadata": {
  "kernelspec": {
   "display_name": "Python 3",
   "language": "python",
   "name": "python3"
  },
  "language_info": {
   "codemirror_mode": {
    "name": "ipython",
    "version": 3
   },
   "file_extension": ".py",
   "mimetype": "text/x-python",
   "name": "python",
   "nbconvert_exporter": "python",
   "pygments_lexer": "ipython3",
   "version": "3.12.0"
  }
 },
 "nbformat": 4,
 "nbformat_minor": 2
}
