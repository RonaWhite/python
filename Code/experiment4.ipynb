{
 "cells": [
  {
   "cell_type": "markdown",
   "metadata": {},
   "source": [
    "### 第一部分 字典与Python用户输入和while循环\n",
    "\n",
    "### 第6章 字典\n",
    "\n",
    "#### 6-1 人"
   ]
  },
  {
   "cell_type": "code",
   "execution_count": 1,
   "metadata": {},
   "outputs": [
    {
     "name": "stdout",
     "output_type": "stream",
     "text": [
      "Iverson\n",
      "Allen\n",
      "32\n",
      "NYC\n"
     ]
    }
   ],
   "source": [
    "person = {\n",
    "    'first_name': 'Iverson',\n",
    "    'last_name': 'Allen',\n",
    "    'age': 32,\n",
    "    'city': 'NYC',\n",
    "    }\n",
    "\n",
    "print(person['first_name'])\n",
    "print(person['last_name'])\n",
    "print(person['age'])\n",
    "print(person['city'])"
   ]
  },
  {
   "cell_type": "markdown",
   "metadata": {},
   "source": [
    "#### 6-2 喜欢的数字"
   ]
  },
  {
   "cell_type": "code",
   "execution_count": 2,
   "metadata": {},
   "outputs": [
    {
     "name": "stdout",
     "output_type": "stream",
     "text": [
      "xiaoming's favorite number is 21.\n",
      "xiaohong's favorite number is 1.\n",
      "xiaofang's favorite number is 6.\n",
      "xianoli's favorite number is 18.\n",
      "xiaowang's favorite number is 3.\n"
     ]
    }
   ],
   "source": [
    "favorite_numbers = {\n",
    "    'xiaoming': 21,\n",
    "    'xiaohong': 1,\n",
    "    'xiaofang': 6,\n",
    "    'xianoli': 18,\n",
    "    'xiaowang': 3,\n",
    "    }\n",
    "\n",
    "num = favorite_numbers['xiaoming']\n",
    "print(\"xiaoming's favorite number is \" + str(num) + \".\")\n",
    "\n",
    "num = favorite_numbers['xiaohong']\n",
    "print(\"xiaohong's favorite number is \" + str(num) + \".\")\n",
    "\n",
    "num = favorite_numbers['xiaofang']\n",
    "print(\"xiaofang's favorite number is \" + str(num) + \".\")\n",
    "\n",
    "num = favorite_numbers['xianoli']\n",
    "print(\"xianoli's favorite number is \" + str(num) + \".\")\n",
    "\n",
    "num = favorite_numbers['xiaowang']\n",
    "print(\"xiaowang's favorite number is \" + str(num) + \".\")"
   ]
  },
  {
   "cell_type": "markdown",
   "metadata": {},
   "source": [
    "#### 6-3 词汇表"
   ]
  },
  {
   "cell_type": "code",
   "execution_count": 3,
   "metadata": {},
   "outputs": [
    {
     "name": "stdout",
     "output_type": "stream",
     "text": [
      "\n",
      "String: A series of characters.\n",
      "\n",
      "Comment: A note in a program that the Python interpreter ignores.\n",
      "\n",
      "List: A collection of items in a particular order.\n",
      "\n",
      "Loop: Work through a collection of items, one at a time.\n",
      "\n",
      "Dictionary: A collection of key-value pairs.\n"
     ]
    }
   ],
   "source": [
    "#想出你在前面学过的 5 个编程词汇，将它们用作词汇表中的键，\n",
    "#并将它们的含义作为值存储在词汇表中。\n",
    "\n",
    "glossary = {\n",
    "    'string': 'A series of characters.',\n",
    "    'comment': 'A note in a program that the Python interpreter ignores.',\n",
    "    'list': 'A collection of items in a particular order.',\n",
    "    'loop': 'Work through a collection of items, one at a time.',\n",
    "    'dictionary': \"A collection of key-value pairs.\",\n",
    "    }\n",
    " \n",
    "#以整洁的方式打印每个词汇及其含义。为此，你可以先打印词汇，在它后面加\n",
    "#上一个冒号，再打印词汇的含义；也可在一行打印词汇，再使用换行符（\\n）\n",
    "#插入一个空行，然后在下一行以缩进的方式打印词汇的含义\n",
    "\n",
    "word = 'string'\n",
    "print(\"\\n\" + word.title() + \": \" + glossary[word])\n",
    "\n",
    "word = 'comment'\n",
    "print(\"\\n\" + word.title() + \": \" + glossary[word])\n",
    "\n",
    "word = 'list'\n",
    "print(\"\\n\" + word.title() + \": \" + glossary[word])\n",
    "\n",
    "word = 'loop'\n",
    "print(\"\\n\" + word.title() + \": \" + glossary[word])\n",
    "\n",
    "word = 'dictionary'\n",
    "print(\"\\n\" + word.title() + \": \" + glossary[word])"
   ]
  },
  {
   "cell_type": "markdown",
   "metadata": {},
   "source": [
    "#### 6-4 词汇表2"
   ]
  },
  {
   "cell_type": "code",
   "execution_count": 4,
   "metadata": {},
   "outputs": [
    {
     "name": "stdout",
     "output_type": "stream",
     "text": [
      "\n",
      "String: A series of characters.\n",
      "\n",
      "Comment: A note in a program that the Python interpreter ignores.\n",
      "\n",
      "List: A collection of items in a particular order.\n",
      "\n",
      "Loop: Work through a collection of items, one at a time.\n",
      "\n",
      "Dictionary: A collection of key-value pairs.\n",
      "\n",
      "Key: The first item in a key-value pair in a dictionary.\n",
      "\n",
      "Value: An item associated with a key in a dictionary.\n",
      "\n",
      "Conditional Test: A comparison between two values.\n",
      "\n",
      "Float: A numerical value with a decimal component.\n",
      "\n",
      "Boolean Expression: An expression that evaluates to True or False.\n"
     ]
    }
   ],
   "source": [
    "glossary = {\n",
    "    'string': 'A series of characters.',\n",
    "    'comment': 'A note in a program that the Python interpreter ignores.',\n",
    "    'list': 'A collection of items in a particular order.',\n",
    "    'loop': 'Work through a collection of items, one at a time.',\n",
    "    'dictionary': \"A collection of key-value pairs.\",\n",
    "    'key': 'The first item in a key-value pair in a dictionary.',\n",
    "    'value': 'An item associated with a key in a dictionary.',\n",
    "    'conditional test': 'A comparison between two values.',\n",
    "    'float': 'A numerical value with a decimal component.',\n",
    "    'boolean expression': 'An expression that evaluates to True or False.',\n",
    "    }\n",
    "\n",
    "for word, definition in glossary.items():\n",
    "    print(\"\\n\" + word.title() + \": \" + definition)"
   ]
  },
  {
   "cell_type": "markdown",
   "metadata": {},
   "source": [
    "#### 6-5 河流"
   ]
  },
  {
   "cell_type": "code",
   "execution_count": 5,
   "metadata": {},
   "outputs": [
    {
     "name": "stdout",
     "output_type": "stream",
     "text": [
      "The Nile runs through Egypt.\n",
      "The Yangtze runs through China.\n",
      "The Amazon runs through Brazil.\n",
      "\n",
      "The following rivers are included in this data set:\n",
      "Nile\n",
      "Yangtze\n",
      "Amazon\n",
      "\n",
      "The following countries are included in this data set:\n",
      "Egypt\n",
      "China\n",
      "Brazil\n"
     ]
    }
   ],
   "source": [
    "#使用循环为每条河流打印一条消息，如“The Nile runs through Egypt.”。\n",
    "rivers = {\n",
    "    'nile' : 'egypt',\n",
    "    'yangtze' : 'china',\n",
    "    'amazon' : 'brazil',\n",
    "}\n",
    "\n",
    "for river, country in rivers.items():\n",
    "    print('The ' + river.title() +' runs through ' \n",
    "    + country.title() + '.')\n",
    "\n",
    "#使用循环将该字典中每条河流的名字都打印出来。\n",
    "print(\"\\nThe following rivers are included in this data set:\")\n",
    "for river in rivers.keys():\n",
    "    print(river.title())\n",
    "    \n",
    "#使用循环将该字典包含的每个国家的名字都打印出来。    \n",
    "print(\"\\nThe following countries are included in this data set:\")\n",
    "for country in rivers.values():\n",
    "    print(country.title())"
   ]
  },
  {
   "cell_type": "markdown",
   "metadata": {},
   "source": [
    "#### 6-6 调查"
   ]
  },
  {
   "cell_type": "code",
   "execution_count": 6,
   "metadata": {},
   "outputs": [
    {
     "name": "stdout",
     "output_type": "stream",
     "text": [
      "Thank you for taking the poll, Phil!\n",
      "Josh, what's your favorite programming language?\n",
      "David, what's your favorite programming language?\n",
      "Becca, what's your favorite programming language?\n",
      "Thank you for taking the poll, Sarah!\n",
      "Matt, what's your favorite programming language?\n",
      "Danielle, what's your favorite programming language?\n"
     ]
    }
   ],
   "source": [
    "favorite_languages = {\n",
    "    'jen': 'python',\n",
    "    'sarah': 'c',\n",
    "    'edward': 'ruby',\n",
    "    'phil': 'python',\n",
    "    }\n",
    "\n",
    "coders = ['phil', 'josh', 'david', 'becca', 'sarah', 'matt', 'danielle']\n",
    "for coder in coders:\n",
    "    if coder in favorite_languages.keys():\n",
    "        print(\"Thank you for taking the poll, \" + coder.title() + \"!\")\n",
    "    else:\n",
    "        print(coder.title() + \", what's your favorite programming language?\")"
   ]
  },
  {
   "cell_type": "markdown",
   "metadata": {},
   "source": [
    "#### 6-7 人"
   ]
  },
  {
   "cell_type": "code",
   "execution_count": 7,
   "metadata": {},
   "outputs": [
    {
     "name": "stdout",
     "output_type": "stream",
     "text": [
      "Iveron Allen, of Nyc, is 23 years old.\n",
      "Jordan Michael, of Chicago, is 30 years old.\n",
      "Jianlian Yi, of Guangdong, is 28 years old.\n"
     ]
    }
   ],
   "source": [
    "person_0 = {\n",
    "    'first_name':'Iveron',\n",
    "    'last_name':'Allen',\n",
    "    'age':23,\n",
    "    'city':'NYC'\n",
    "    }\n",
    "\n",
    "person_1 = {\n",
    "    'first_name':'Jordan',\n",
    "    'last_name':'Michael',\n",
    "    'age':30,\n",
    "    'city':'Chicago'\n",
    "    }\n",
    "\n",
    "person_2 = {\n",
    "    'first_name':'Jianlian',\n",
    "    'last_name':'Yi',\n",
    "    'age':28,\n",
    "    'city':'Guangdong'\n",
    "    }\n",
    "\n",
    "people = [person_0,person_1,person_2]\n",
    "\n",
    "for person in people:\n",
    "    name = person['first_name'].title() + \" \" + person['last_name'].title()\n",
    "    age = str(person['age'])\n",
    "    city = person['city'].title()\n",
    "    \n",
    "    print(name + \", of \" + city + \", is \" + age + \" years old.\")"
   ]
  },
  {
   "cell_type": "markdown",
   "metadata": {},
   "source": [
    "#### 6-8 宠物"
   ]
  },
  {
   "cell_type": "code",
   "execution_count": 8,
   "metadata": {},
   "outputs": [
    {
     "name": "stdout",
     "output_type": "stream",
     "text": [
      "type: dog\n",
      "host: john\n",
      "type: cat\n",
      "host: lucy\n"
     ]
    }
   ],
   "source": [
    "cloris = {\n",
    "    'type' : 'dog',\n",
    "    'host' : 'john'\n",
    "}\n",
    "\n",
    "brinkley = {\n",
    "    'type' : 'cat',\n",
    "    'host' : 'lucy',\n",
    "}\n",
    "\n",
    "pets = [cloris,brinkley]\n",
    "\n",
    "for pet in pets:\n",
    "    for key, value in pet.items():\n",
    "        print(key + \": \" + str(value))"
   ]
  },
  {
   "cell_type": "markdown",
   "metadata": {},
   "source": [
    "#### 6-9 喜欢的地方"
   ]
  },
  {
   "cell_type": "code",
   "execution_count": 9,
   "metadata": {},
   "outputs": [
    {
     "name": "stdout",
     "output_type": "stream",
     "text": [
      "\n",
      "name:jen\n",
      "\tcity: Beijing\n",
      "\tcity: Shanghai\n",
      "\n",
      "name:sarah\n",
      "\tcity: Dalian\n",
      "\n",
      "name:edward\n",
      "\tcity: Chengdu\n",
      "\tcity: Beijing\n",
      "\tcity: Nanjing\n"
     ]
    }
   ],
   "source": [
    "favorite_place = {\n",
    "    'jen' : ['Beijing','Shanghai'],\n",
    "    'sarah' : ['Dalian'],\n",
    "    'edward' : ['Chengdu','Beijing','Nanjing'],\n",
    "}\n",
    "\n",
    "for name, citys in favorite_place.items():\n",
    "    print('\\n' + 'name:' + name)\n",
    "    for city in citys:\n",
    "        print('\\t' + 'city: '+ city)"
   ]
  },
  {
   "cell_type": "markdown",
   "metadata": {},
   "source": [
    "#### 6-10 喜欢的数字"
   ]
  },
  {
   "cell_type": "code",
   "execution_count": 10,
   "metadata": {},
   "outputs": [
    {
     "name": "stdout",
     "output_type": "stream",
     "text": [
      "\n",
      "name:jen\n",
      "\tnum: 2\n",
      "\tnum: 5\n",
      "\n",
      "name:sarah\n",
      "\tnum: 8\n",
      "\n",
      "name:edward\n",
      "\tnum: 1\n",
      "\tnum: 3\n",
      "\tnum: 5\n"
     ]
    }
   ],
   "source": [
    "favorite_num = {\n",
    "    'jen' : [2,5],\n",
    "    'sarah' : [8],\n",
    "    'edward' : [1,3,5],\n",
    "}\n",
    "\n",
    "for name, nums in favorite_num.items():\n",
    "    print('\\n' + 'name:' + name)\n",
    "    for num in nums:\n",
    "        print('\\t' + 'num: '+ str(num))"
   ]
  },
  {
   "cell_type": "markdown",
   "metadata": {},
   "source": [
    "#### 6-11 城市"
   ]
  },
  {
   "cell_type": "code",
   "execution_count": 11,
   "metadata": {},
   "outputs": [
    {
     "name": "stdout",
     "output_type": "stream",
     "text": [
      "\n",
      "city: Beijing\n",
      "\tcountry: China\n",
      "\tpopulation: 22000000\n",
      "\tfact: aaaaa\n",
      "\n",
      "city: Shanghai\n",
      "\tcountry: China\n",
      "\tpopulation: 25000000\n",
      "\tfact: bbbbbb\n",
      "\n",
      "city: NewYork\n",
      "\tcountry: America\n",
      "\tpopulation: 8500000\n",
      "\tfact: cccccc\n"
     ]
    }
   ],
   "source": [
    "cities = {\n",
    "    'Beijing' : {\n",
    "        'country' : 'China',\n",
    "        'population' : 22000000,\n",
    "        'fact' : 'aaaaa',\n",
    "    },\n",
    "\n",
    "    'Shanghai' : {\n",
    "        'country' : 'China',\n",
    "        'population' : 25000000,\n",
    "        'fact' : 'bbbbbb',\n",
    "    },\n",
    "\n",
    "    'NewYork' : {\n",
    "        'country' : 'America',\n",
    "        'population' : 8500000,\n",
    "        'fact' : 'cccccc',\n",
    "    },\n",
    "}\n",
    "\n",
    "for city, city_infos in cities.items():\n",
    "    print('\\n' + 'city: ' + city)\n",
    "    print('\\t' + 'country: ' + city_infos['country'])\n",
    "    print('\\t' + 'population: '+ str(city_infos['population']))\n",
    "    print('\\t' + 'fact: '+ city_infos['fact'])"
   ]
  },
  {
   "cell_type": "markdown",
   "metadata": {},
   "source": [
    "### 第7章 用户输入和while循环\n",
    "\n",
    "#### 7-1 汽车租赁"
   ]
  },
  {
   "cell_type": "code",
   "execution_count": null,
   "metadata": {},
   "outputs": [],
   "source": [
    "car = input('What kind of car do you want to rent?')\n",
    "print('Let me see if I can find you a ' + car)"
   ]
  },
  {
   "cell_type": "markdown",
   "metadata": {},
   "source": [
    "#### 7-2 餐馆订位"
   ]
  },
  {
   "cell_type": "code",
   "execution_count": 12,
   "metadata": {},
   "outputs": [],
   "source": [
    "num = input('how many people?')\n",
    "num = int(num)\n",
    "\n",
    "if num > 8:\n",
    "    print('Sorry,No seats.')\n",
    "else:\n",
    "    print('Your table is ready.')"
   ]
  },
  {
   "cell_type": "markdown",
   "metadata": {},
   "source": [
    "#### 7-3 10的整数倍"
   ]
  },
  {
   "cell_type": "code",
   "execution_count": null,
   "metadata": {},
   "outputs": [],
   "source": [
    "num = input('how many people?')\n",
    "num = int(num)\n",
    "\n",
    "if num > 8:\n",
    "    print('Sorry,No seats.')\n",
    "else:\n",
    "    print('Your table is ready.')"
   ]
  },
  {
   "cell_type": "markdown",
   "metadata": {},
   "source": [
    "#### 7-4 比萨配料"
   ]
  },
  {
   "cell_type": "code",
   "execution_count": null,
   "metadata": {},
   "outputs": [],
   "source": [
    "prompt = \"\\nWhat topping would you like on your pizza?\"\n",
    "prompt += \"\\nEnter 'quit' when you are finished: \"\n",
    "\n",
    "while True:\n",
    "    topping = input(prompt)\n",
    "    if topping != 'quit':\n",
    "        print(\"  I'll add \" + topping + \" to your pizza.\")\n",
    "    else:\n",
    "        break"
   ]
  },
  {
   "cell_type": "markdown",
   "metadata": {},
   "source": [
    "#### 7-5 电影票"
   ]
  },
  {
   "cell_type": "code",
   "execution_count": null,
   "metadata": {},
   "outputs": [],
   "source": [
    "prompt = \"How old are you?\"\n",
    "prompt += \"\\nEnter 'quit' when you are finished. \"\n",
    "\n",
    "while True:\n",
    "    age = input(prompt)\n",
    "    if age == 'quit':\n",
    "        break\n",
    "    age = int(age)\n",
    "\n",
    "    if age < 3:\n",
    "        print(\"  You get in free!\")\n",
    "    elif age < 13:\n",
    "        print(\"  Your ticket is $10.\")\n",
    "    else:\n",
    "        print(\"  Your ticket is $15.\")"
   ]
  },
  {
   "cell_type": "markdown",
   "metadata": {},
   "source": [
    "#### 7-6 三个出口"
   ]
  },
  {
   "cell_type": "code",
   "execution_count": null,
   "metadata": {},
   "outputs": [],
   "source": [
    "#在 while 循环中使用条件测试来结束循环。\n",
    "prompt = '\\nTell me something, and I will repeat it back to you:'\n",
    "prompt += \"\\nEnter 'quit' to end the game.\"\n",
    "\n",
    "messsge = ''\n",
    "while messsge != 'quit':\n",
    "    messsge = input(prompt)\n",
    "    if messsge != 'quit':\n",
    "        print(messsge)\n",
    "\n",
    "\n",
    "#使用变量 active 来控制循环结束的时机。\n",
    "prompt = '\\nTell me something, and I will repeat it back to you:'\n",
    "prompt += \"\\nEnter 'quit' to end the game.\"\n",
    "\n",
    "active = True\n",
    "while active:\n",
    "    messsge = input(prompt)\n",
    "    if messsge == 'quit':\n",
    "        active = False\n",
    "    else:\n",
    "        print(messsge)\n",
    "\n",
    "# 使用 break 语句在用户输入'quit'时退出循环。\n",
    "prompt = '\\nTell me something, and I will repeat it back to you:'\n",
    "prompt += \"\\nEnter 'quit' to end the game.\"\n",
    "\n",
    "while True:\n",
    "    city = input(prompt)\n",
    "    if city == 'quit':\n",
    "        break\n",
    "    else:\n",
    "        print(messsge)"
   ]
  },
  {
   "cell_type": "markdown",
   "metadata": {},
   "source": [
    "#### 7-7 无限循环"
   ]
  },
  {
   "cell_type": "code",
   "execution_count": null,
   "metadata": {},
   "outputs": [],
   "source": [
    "while True:\n",
    "    print(\"Hello World!\")"
   ]
  },
  {
   "cell_type": "markdown",
   "metadata": {},
   "source": [
    "#### 7-8 熟食店"
   ]
  },
  {
   "cell_type": "code",
   "execution_count": null,
   "metadata": {},
   "outputs": [],
   "source": [
    "sandwich_orders = ['small_sandwich','middle_sandwich','big_sandwish']\n",
    "finished_sandwiches=[]\n",
    "while sandwich_orders:\n",
    "    current_order = sandwich_orders.pop()\n",
    "    print(\"I made your \" + current_order)\n",
    "    finished_sandwiches.append(current_order)\n",
    "\n",
    "for finished_sandwich in finished_sandwiches:\n",
    "    print(finished_sandwich +\" has been made\")"
   ]
  },
  {
   "cell_type": "markdown",
   "metadata": {},
   "source": [
    "#### 7-9 五香烟熏牛肉（pastrami）卖完了"
   ]
  },
  {
   "cell_type": "code",
   "execution_count": null,
   "metadata": {},
   "outputs": [],
   "source": [
    "sandwich_orders = ['pastrami','pastrami','big_sandwish','pastrami']\n",
    "print(\"The pastrami was sold out\")\n",
    "while 'pastrami' in sandwich_orders:\n",
    "    sandwich_orders.remove('pastrami')\n",
    "print(sandwich_orders)"
   ]
  },
  {
   "cell_type": "markdown",
   "metadata": {},
   "source": [
    "#### 7-10 梦想的度假胜地"
   ]
  },
  {
   "cell_type": "code",
   "execution_count": null,
   "metadata": {},
   "outputs": [],
   "source": [
    "polling_active = True\n",
    "\n",
    "while polling_active:\n",
    "    #提示输入调查者的名字和回答\n",
    "    name = input(\"\\nWhat's your name?\")\n",
    "    response = input(\"if you could visit one place in the world,where would u go?\")\n",
    "\n",
    "    #将答案存储在字典中\n",
    "    responses[name] = response\n",
    "\n",
    "    #看看是否还有人要参与调查\n",
    "    repeat = input(\"Would you like to let another person respond? (yes/no)\")\n",
    "    if repeat == 'no':\n",
    "        polling_active = False"
   ]
  },
  {
   "cell_type": "markdown",
   "metadata": {},
   "source": [
    "### 第二部分 Codewars Kata挑战\n",
    "\n",
    "#### 第一题:淘气还是乖孩子（Naughty or Nice）"
   ]
  },
  {
   "cell_type": "code",
   "execution_count": null,
   "metadata": {},
   "outputs": [],
   "source": [
    "def naughty_or_nice(data):\n",
    "    naughty_count = 0\n",
    "    nice_count = 0\n",
    "\n",
    "    # 遍历每个月份\n",
    "    for month, days in data.items():\n",
    "        # 遍历该月的每一天\n",
    "        for day, behavior in days.items():\n",
    "            if behavior == 'Naughty':\n",
    "                naughty_count += 1\n",
    "            elif behavior == 'Nice':\n",
    "                nice_count += 1\n",
    "\n",
    "    # 比较Naughty和Nice的次数\n",
    "    if naughty_count > nice_count:\n",
    "        return \"Naughty!\"\n",
    "    elif naughty_count < nice_count:\n",
    "        return \"Nice!\"\n",
    "    else:\n",
    "        return \"Nice!\"\n",
    "\n",
    "data = {\n",
    "    'January': {\n",
    "        '1': 'Naughty', '2': 'Naughty', '3': 'Nice',  # 填充更多数据\n",
    "    },\n",
    "    'February': {\n",
    "        '1': 'Nice', '2': 'Naughty', '3': 'Nice',  # 填充更多数据\n",
    "    },\n",
    "    # 其他月份的数据\n",
    "}\n",
    "\n",
    "result = naughty_or_nice(data)\n",
    "print(result)  # 输出 \"Naughty!\"或 \"Nice!\""
   ]
  },
  {
   "cell_type": "markdown",
   "metadata": {},
   "source": [
    "#### 第二题: 观察到的PIN（The observed PIN）"
   ]
  },
  {
   "cell_type": "code",
   "execution_count": null,
   "metadata": {},
   "outputs": [],
   "source": [
    "def get_pins(observed):\n",
    "    # 定义数字之间的映射关系\n",
    "    adjacent_digits = {\n",
    "        '0': ['0', '8'],\n",
    "        '1': ['1', '2', '4'],\n",
    "        '2': ['1', '2', '3', '5'],\n",
    "        '3': ['2', '3', '6'],\n",
    "        '4': ['1', '4', '5', '7'],\n",
    "        '5': ['2', '4', '5', '6', '8'],\n",
    "        '6': ['3', '5', '6', '9'],\n",
    "        '7': ['4', '7', '8'],\n",
    "        '8': ['5', '7', '8', '9', '0'],\n",
    "        '9': ['6', '8', '9']\n",
    "    }\n",
    "    \n",
    "    # 如果观察到的密码为空，直接返回空列表\n",
    "    if not observed:\n",
    "        return []\n",
    "\n",
    "    # 递归函数，用于生成密码组合\n",
    "    def generate_pins(observed, current_pin):\n",
    "        if len(current_pin) == len(observed):\n",
    "            # 当生成的密码长度与观察到的密码长度相等时，加入结果列表\n",
    "            result.append(current_pin)\n",
    "            return\n",
    "        else:\n",
    "            # 否则，继续生成密码\n",
    "            current_digit = observed[len(current_pin)]\n",
    "            for neighbor in adjacent_digits[current_digit]:\n",
    "                generate_pins(observed, current_pin + neighbor)\n",
    "\n",
    "    result = []\n",
    "    generate_pins(observed, \"\")\n",
    "    return result\n",
    "\n",
    "# 示例用法\n",
    "observed = \"1357\"\n",
    "possible_pins = get_pins(observed)\n",
    "print(possible_pins)  # 输出所有可能的密码组合"
   ]
  },
  {
   "cell_type": "markdown",
   "metadata": {},
   "source": [
    "#### 第三题: RNA到蛋白质序列的翻译（RNA to Protein Sequence Translation）"
   ]
  },
  {
   "cell_type": "code",
   "execution_count": null,
   "metadata": {},
   "outputs": [],
   "source": [
    "def protein(rna):\n",
    "    # 创建一个空字符串来存储翻译后的蛋白质序列\n",
    "    protein_sequence = \"\"\n",
    "    \n",
    "    # 每次从RNA字符串中截取3个碱基，这对应一个codon\n",
    "    for i in range(0, len(rna), 3):\n",
    "        codon = rna[i:i+3]\n",
    "        \n",
    "        # 使用氨基酸字典查找codon对应的氨基酸\n",
    "        amino_acid = PROTEIN_DICT[codon]\n",
    "        \n",
    "        # 如果氨基酸是Stop，则停止翻译\n",
    "        if amino_acid == 'Stop':\n",
    "            break\n",
    "        \n",
    "        # 否则将氨基酸添加到蛋白质序列中\n",
    "        protein_sequence += amino_acid\n",
    "\n",
    "    return protein_sequence\n",
    "    \n",
    "    # 测试\n",
    "rna_sequence = 'UGCGAUGAAUGGGCUCGCUCC'\n",
    "result = protein(rna_sequence)\n",
    "print(result)  # 输出：'CDEWARS'"
   ]
  },
  {
   "cell_type": "markdown",
   "metadata": {},
   "source": [
    "#### 第四题: 填写订单（Thinkful - Dictionary drills: Order filler）"
   ]
  },
  {
   "cell_type": "code",
   "execution_count": null,
   "metadata": {},
   "outputs": [],
   "source": [
    "def fillable(stock, merch, n):\n",
    "    # 检查库存中是否存在所需商品\n",
    "    if merch in stock:\n",
    "        # 检查库存中所需商品的数量是否足够\n",
    "        if stock[merch] >= n:\n",
    "            # 库存足够，可以完成销售\n",
    "            return True\n",
    "    \n",
    "    # 如果库存中没有所需商品或数量不足，无法完成销售\n",
    "    return False\n",
    "\n",
    "# 示例用法\n",
    "stock = {\n",
    "    'item1': 10,\n",
    "    'item2': 5,\n",
    "    'item3': 20\n",
    "}\n",
    "\n",
    "merchandise = 'item1'\n",
    "quantity = 3\n",
    "\n",
    "result = fillable(stock, merchandise, quantity)\n",
    "print(result)  # 输出 True，可以完成销售"
   ]
  },
  {
   "cell_type": "markdown",
   "metadata": {},
   "source": [
    "#### 第五题: 莫尔斯码解码器（Decode the Morse code, advanced）"
   ]
  },
  {
   "cell_type": "code",
   "execution_count": null,
   "metadata": {},
   "outputs": [],
   "source": [
    "def decodeBits(bits):\n",
    "    bits = bits.strip(\"0\")\n",
    "    unit = 0\n",
    "    for bit in bits:\n",
    "        if bit != \"0\":\n",
    "            unit += 1\n",
    "        else:\n",
    "            break\n",
    "    #unit now might be 1 unit or 3 units\n",
    "    count = 1\n",
    "    for i in range(1,len(bits)):\n",
    "        if bits[i] == bits[i-1]:\n",
    "            count += 1\n",
    "        else:\n",
    "            if count < unit:\n",
    "                unit = count\n",
    "                count = 1\n",
    "            else:\n",
    "                count = 1\n",
    "    morse_code = \"\"\n",
    "    \n",
    "    words = bits.split(\"0\"*7*unit)\n",
    "    for word in words:\n",
    "        characters = word.split(\"0\"*3*unit)\n",
    "        for character in characters:\n",
    "            signs = character.split(\"0\"*unit)\n",
    "            for sign in signs:\n",
    "                if sign == \"1\"*3*unit:\n",
    "                    morse_code += \"-\"\n",
    "                else:\n",
    "                    morse_code += \".\"\n",
    "            morse_code += \" \"\n",
    "        morse_code += \"   \"\n",
    "    return morse_code\n",
    "            \n",
    "def decodeMorse(morse_code):\n",
    "    morse_code.strip()\n",
    "    result = \"\"\n",
    "    characters = morse_code.split(\" \")\n",
    "    for character in characters:\n",
    "        if character != \"\":\n",
    "            result += MORSE_CODE[character]\n",
    "        else:\n",
    "            result += \" \"\n",
    "    return ' '.join(result.split())\n"
   ]
  }
 ],
 "metadata": {
  "kernelspec": {
   "display_name": "Python 3",
   "language": "python",
   "name": "python3"
  },
  "language_info": {
   "codemirror_mode": {
    "name": "ipython",
    "version": 3
   },
   "file_extension": ".py",
   "mimetype": "text/x-python",
   "name": "python",
   "nbconvert_exporter": "python",
   "pygments_lexer": "ipython3",
   "version": "3.12.0"
  }
 },
 "nbformat": 4,
 "nbformat_minor": 2
}
