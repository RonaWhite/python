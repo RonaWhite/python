{
 "cells": [
  {
   "cell_type": "markdown",
   "metadata": {},
   "source": [
    "### 第一部分 Python函数\n",
    "\n",
    "### 第8章 函数\n",
    "\n",
    "#### 8-1 消息"
   ]
  },
  {
   "cell_type": "code",
   "execution_count": 1,
   "metadata": {},
   "outputs": [
    {
     "name": "stdout",
     "output_type": "stream",
     "text": [
      "hello\n"
     ]
    }
   ],
   "source": [
    "def display_message():\n",
    "    print(\"hello\")\n",
    "\n",
    "display_message()"
   ]
  },
  {
   "cell_type": "markdown",
   "metadata": {},
   "source": [
    "#### 8-2 喜欢的图书"
   ]
  },
  {
   "cell_type": "code",
   "execution_count": 2,
   "metadata": {},
   "outputs": [
    {
     "name": "stdout",
     "output_type": "stream",
     "text": [
      "One of my favorite books a in Wonderland\n"
     ]
    }
   ],
   "source": [
    "def favorite_book(title):\n",
    "    print(f\"One of my favorite books {title} in Wonderland\")\n",
    "\n",
    "favorite_book('a')"
   ]
  },
  {
   "cell_type": "markdown",
   "metadata": {},
   "source": [
    "#### 8-3 T恤"
   ]
  },
  {
   "cell_type": "code",
   "execution_count": 3,
   "metadata": {},
   "outputs": [
    {
     "name": "stdout",
     "output_type": "stream",
     "text": [
      "T恤的尺码:11 字样:a\n",
      "T恤的尺码:11 字样:b\n",
      "T恤的尺码:111 字样:c\n"
     ]
    }
   ],
   "source": [
    "def make_shirt(chima,T_str):\n",
    "    print(f\"T恤的尺码:{chima} 字样:{T_str}\")\n",
    "\n",
    "make_shirt(11,'a')\n",
    "make_shirt(chima=11,T_str='b')\n",
    "make_shirt(T_str='c',chima=111)"
   ]
  },
  {
   "cell_type": "markdown",
   "metadata": {},
   "source": [
    "#### 8-4 大号T恤"
   ]
  },
  {
   "cell_type": "code",
   "execution_count": 4,
   "metadata": {},
   "outputs": [
    {
     "name": "stdout",
     "output_type": "stream",
     "text": [
      "T恤的尺码:11 字样:I love Python\n",
      "T恤的尺码:11 字样:b\n",
      "T恤的尺码:111 字样:c\n"
     ]
    }
   ],
   "source": [
    "def make_shirt(chima,T_str='I love Python'):\n",
    "    print(f\"T恤的尺码:{chima} 字样:{T_str}\")\n",
    "\n",
    "make_shirt(11)\n",
    "make_shirt(chima=11,T_str='b')\n",
    "make_shirt(T_str='c',chima=111)"
   ]
  },
  {
   "cell_type": "markdown",
   "metadata": {},
   "source": [
    "#### 8-5 城市"
   ]
  },
  {
   "cell_type": "code",
   "execution_count": 5,
   "metadata": {},
   "outputs": [
    {
     "name": "stdout",
     "output_type": "stream",
     "text": [
      "Reykjavik is in Iceland\n",
      "aaa\n"
     ]
    }
   ],
   "source": [
    "def describe_city(city='Reykjavik is in Iceland'):\n",
    "    print(city)\n",
    "\n",
    "describe_city()\n",
    "describe_city('aaa')"
   ]
  },
  {
   "cell_type": "markdown",
   "metadata": {},
   "source": [
    "#### 8-6 城市名"
   ]
  },
  {
   "cell_type": "code",
   "execution_count": 6,
   "metadata": {},
   "outputs": [
    {
     "name": "stdout",
     "output_type": "stream",
     "text": [
      "changsha,china\n"
     ]
    }
   ],
   "source": [
    "def city_country(name,country):\n",
    "    return f\"{name},{country}\"\n",
    "hold='yes'\n",
    "city_countrys=[]\n",
    "while hold=='yes':\n",
    "    name=input(\"城市的名称：\")\n",
    "    country=input(\"所属国家：\")\n",
    "    city_countrys.append(city_country(name,country))\n",
    "    hold=input(\"是否继续输入：\\'yes or no\\'\")\n",
    "for cc in city_countrys:\n",
    "    print(cc)"
   ]
  },
  {
   "cell_type": "markdown",
   "metadata": {},
   "source": [
    "#### 8-7 专辑"
   ]
  },
  {
   "cell_type": "code",
   "execution_count": 7,
   "metadata": {},
   "outputs": [
    {
     "name": "stdout",
     "output_type": "stream",
     "text": [
      "{'a': 'b'}\n",
      "{'c': 'd'}\n",
      "{'m': 'n', 'digit': 10}\n"
     ]
    }
   ],
   "source": [
    "def make_album(people_name,music_name,music_digit=0):\n",
    "    information = {}\n",
    "    information[people_name]=music_name\n",
    "    if music_digit!=0:\n",
    "        information['digit']=music_digit\n",
    "    return information\n",
    "\n",
    "print(make_album('a','b'))\n",
    "print(make_album('c','d'))\n",
    "print(make_album('m','n',10))"
   ]
  },
  {
   "cell_type": "markdown",
   "metadata": {},
   "source": [
    "#### 8-8 用户的专辑"
   ]
  },
  {
   "cell_type": "code",
   "execution_count": 8,
   "metadata": {},
   "outputs": [
    {
     "name": "stdout",
     "output_type": "stream",
     "text": [
      "{'周杰伦': '晴天'}\n"
     ]
    }
   ],
   "source": [
    "def make_album(people_name,music_name,music_digit=0):\n",
    "    information = {}\n",
    "    information[people_name]=music_name\n",
    "    if music_digit!=0:\n",
    "        information['digit']=music_digit\n",
    "    return information\n",
    "\n",
    "ct='y'\n",
    "while ct=='y':\n",
    "    people_name=input(\"输入歌手名字：\")\n",
    "    music_name=input(\"输入歌曲名字：\")\n",
    "    print(make_album(people_name,music_name))\n",
    "    ct=input(\"是否继续：\\'y or n\\'\")"
   ]
  },
  {
   "cell_type": "markdown",
   "metadata": {},
   "source": [
    "#### 8-9 魔术师"
   ]
  },
  {
   "cell_type": "code",
   "execution_count": 9,
   "metadata": {},
   "outputs": [
    {
     "name": "stdout",
     "output_type": "stream",
     "text": [
      "a\n",
      "b\n"
     ]
    }
   ],
   "source": [
    "def show_magicians(name):\n",
    "    for a in name:\n",
    "        print(a)\n",
    "name=['a','b']\n",
    "show_magicians(name)"
   ]
  },
  {
   "cell_type": "markdown",
   "metadata": {},
   "source": [
    "#### 8-10 了不起的魔术师"
   ]
  },
  {
   "cell_type": "code",
   "execution_count": 10,
   "metadata": {},
   "outputs": [
    {
     "name": "stdout",
     "output_type": "stream",
     "text": [
      "b the Great\n",
      "a the Great\n"
     ]
    }
   ],
   "source": [
    "def show_magicians(name):\n",
    "    for a in name:\n",
    "        print(a)\n",
    "def make_great(lt):\n",
    "    while lt:\n",
    "        name_change.append(lt.pop()+\" the Great\")\n",
    "\n",
    "\n",
    "name=['a','b']\n",
    "name_change=[]\n",
    "make_great(name)\n",
    "show_magicians(name)\n",
    "show_magicians(name_change)"
   ]
  },
  {
   "cell_type": "markdown",
   "metadata": {},
   "source": [
    "#### 8-11 不变的魔术师"
   ]
  },
  {
   "cell_type": "code",
   "execution_count": 11,
   "metadata": {},
   "outputs": [
    {
     "name": "stdout",
     "output_type": "stream",
     "text": [
      "a\n",
      "b\n",
      "b the Great\n",
      "a the Great\n"
     ]
    }
   ],
   "source": [
    "def show_magicians(name):\n",
    "    for a in name:\n",
    "        print(a)\n",
    "def make_great(lt):\n",
    "    while lt:\n",
    "        name_change.append(lt.pop()+\" the Great\")\n",
    "\n",
    "\n",
    "name=['a','b']\n",
    "name_change=[]\n",
    "make_great(name[:])\n",
    "show_magicians(name)\n",
    "show_magicians(name_change)"
   ]
  },
  {
   "cell_type": "markdown",
   "metadata": {},
   "source": [
    "#### 8-12 三明治"
   ]
  },
  {
   "cell_type": "code",
   "execution_count": 12,
   "metadata": {},
   "outputs": [
    {
     "name": "stdout",
     "output_type": "stream",
     "text": [
      "aaa:Az\n"
     ]
    }
   ],
   "source": [
    "def sandswith_food(food):\n",
    "    for n,m in food.items():\n",
    "        print(f\"{n}:{m}\")\n",
    "food={\n",
    "    'aaa':'Az'\n",
    "    }\n",
    "sandswith_food(food)"
   ]
  },
  {
   "cell_type": "markdown",
   "metadata": {},
   "source": [
    "#### 8-13 用户简介"
   ]
  },
  {
   "cell_type": "code",
   "execution_count": 13,
   "metadata": {},
   "outputs": [
    {
     "name": "stdout",
     "output_type": "stream",
     "text": [
      "{'location': 'princeton', 'field': 'physics', 'first_name': 'liu', 'last_name': 'yi zheng'}\n"
     ]
    }
   ],
   "source": [
    "def build_profile(first,last,**user_info):\n",
    "    user_info['first_name']=first\n",
    "    user_info['last_name']=last\n",
    "    return user_info\n",
    "\n",
    "user_profile=build_profile('liu','yi zheng',location='princeton',field='physics')\n",
    "print(user_profile)"
   ]
  },
  {
   "cell_type": "markdown",
   "metadata": {},
   "source": [
    "#### 8-14 汽车"
   ]
  },
  {
   "cell_type": "code",
   "execution_count": 14,
   "metadata": {},
   "outputs": [
    {
     "name": "stdout",
     "output_type": "stream",
     "text": [
      "{'color': 'blue', 'tow_package': True, 'a': 'subaru', 'b': 'outback'}\n"
     ]
    }
   ],
   "source": [
    "def make_car(creat,byts,**car):\n",
    "    car['a']=creat\n",
    "    car['b']=byts\n",
    "    return car\n",
    "car=make_car('subaru','outback',color='blue',tow_package=True)\n",
    "print(car)"
   ]
  },
  {
   "cell_type": "markdown",
   "metadata": {},
   "source": [
    "### 第二部分 Codewars Kata挑战\n",
    "\n",
    "#### 第一题： 编码聚会1"
   ]
  },
  {
   "cell_type": "code",
   "execution_count": 15,
   "metadata": {},
   "outputs": [],
   "source": [
    "def count_developers(lst):\n",
    "    # 初始化计数器\n",
    "    count = 0\n",
    "\n",
    "    # 遍历开发者列表\n",
    "    for developer in lst:\n",
    "        # 检查开发者国家是否在欧洲并且使用的编程语言是 JavaScript\n",
    "        if developer['continent'] == 'Europe' and developer['language'] == 'JavaScript':\n",
    "            count += 1  # 满足条件的开发者数量加一\n",
    "\n",
    "    return count"
   ]
  },
  {
   "cell_type": "markdown",
   "metadata": {},
   "source": [
    "#### 第二题：使用函数进行计算"
   ]
  },
  {
   "cell_type": "code",
   "execution_count": 16,
   "metadata": {},
   "outputs": [],
   "source": [
    "def zero(func=None):\n",
    "    return 0 if not func else func(0)\n",
    "\n",
    "def one(func=None):\n",
    "    return 1 if not func else func(1)\n",
    "\n",
    "def two(func=None):\n",
    "    return 2 if not func else func(2)\n",
    "\n",
    "def three(func=None):\n",
    "    return 3 if not func else func(3)\n",
    "\n",
    "def four(func=None):\n",
    "    return 4 if not func else func(4)\n",
    "\n",
    "def five(func=None):\n",
    "    return 5 if not func else func(5)\n",
    "\n",
    "def six(func=None):\n",
    "    return 6 if not func else func(6)\n",
    "\n",
    "def seven(func=None):\n",
    "    return 7 if not func else func(7)\n",
    "\n",
    "def eight(func=None):\n",
    "    return 8 if not func else func(8)\n",
    "\n",
    "def nine(func=None):\n",
    "    return 9 if not func else func(9)\n",
    "\n",
    "# 运算函数\n",
    "def plus(x):\n",
    "    return lambda y: y + x\n",
    "\n",
    "def minus(x):\n",
    "    return lambda y: y - x\n",
    "\n",
    "def times(x):\n",
    "    return lambda y: y * x\n",
    "\n",
    "def divided_by(x):\n",
    "    return lambda y: y // x if x != 0 else \"Cannot divide by zero\""
   ]
  },
  {
   "cell_type": "markdown",
   "metadata": {},
   "source": [
    "#### 第三题：缩短数值的过滤器(Number Shortening Filter)"
   ]
  },
  {
   "cell_type": "code",
   "execution_count": 17,
   "metadata": {},
   "outputs": [
    {
     "name": "stdout",
     "output_type": "stream",
     "text": [
      "234k\n",
      "98m\n",
      "[1, 2, 3]\n",
      "32B\n",
      "2KB\n",
      "pippi\n"
     ]
    }
   ],
   "source": [
    "def shorten_number(suffixes, base):\n",
    "    # 定义一个函数\n",
    "    def my_filter(data):\n",
    "        try:\n",
    "            # 将函数输入转换为整数\n",
    "            number = int(data)\n",
    "            \n",
    "        # 如果输入的数据不能转换为整数，直接转换为str返回\n",
    "        except (TypeError, ValueError):\n",
    "            return str(data)\n",
    "        else:\n",
    "            # i用来跟踪suffixes列表的索引\n",
    "            i = 0\n",
    "            \n",
    "            # 每次循环将输入的数字除以base，索引i+1\n",
    "            # 如果除以base等于0或者索引等于len(suffixes)-1，结束循环\n",
    "            while number//base > 0 and i < len(suffixes)-1:\n",
    "                number //= base\n",
    "                i += 1\n",
    "            return str(number) + suffixes[i]     \n",
    "\n",
    "    # 返回值是一个函数\n",
    "    return my_filter\n",
    "\n",
    "filter1 = shorten_number(['','k','m'],1000)\n",
    "print(filter1('234324'))  # == '234k'\n",
    "print(filter1('98234324')) # == '98m'\n",
    "print(filter1([1,2,3])) # == '[1,2,3]'\n",
    "\n",
    "filter2 = shorten_number(['B','KB','MB','GB'],1024)\n",
    "print(filter2('32')) # == '32B'\n",
    "print(filter2('2100'))  # == '2KB';\n",
    "print(filter2('pippi')) # == 'pippi'"
   ]
  },
  {
   "cell_type": "markdown",
   "metadata": {},
   "source": [
    "#### 第四题：编码聚会7"
   ]
  },
  {
   "cell_type": "code",
   "execution_count": 18,
   "metadata": {},
   "outputs": [],
   "source": [
    "def find_senior(lst): \n",
    "    \n",
    "    # 利用生成器作为max函数的参数，找到最大的年龄\n",
    "    mage = max(a['age'] for a in lst)\n",
    "    \n",
    "    # 利用列表推导返回结果\n",
    "    return [a for a in lst if a['age']==mage]"
   ]
  },
  {
   "cell_type": "markdown",
   "metadata": {},
   "source": [
    "#### 第五题：Currying versus partial application"
   ]
  },
  {
   "cell_type": "code",
   "execution_count": 19,
   "metadata": {},
   "outputs": [
    {
     "name": "stdout",
     "output_type": "stream",
     "text": [
      "6\n",
      "6\n"
     ]
    }
   ],
   "source": [
    "def curry_partial(f, *args):  \n",
    "    \n",
    "    # 如果f不是函数，直接返回\n",
    "    if not callable(f): \n",
    "        return f\n",
    "\n",
    "    # 查看函数f需要的参数个数\n",
    "    num_args = f.__code__.co_argcount\n",
    "\n",
    "    # 如果f函数不需要参数，说明f是curry_partial函数\n",
    "    if num_args == 0:\n",
    "        return f(*args)\n",
    "\n",
    "    if len(args) >= num_args:\n",
    "        return f(*args[:num_args])\n",
    "\n",
    "    def inner(*params):    \n",
    "        all_args = [*args, *params]\n",
    "\n",
    "        # 如果没有参数，这是curry函数，使用链式调用\n",
    "        if not args:\n",
    "            return curry_partial(f, *all_args)\n",
    "\n",
    "        # 如果第一个参数不是函数，这是curry函数，使用链式调用        \n",
    "        if not callable(args[0]):\n",
    "            return curry_partial(f, *all_args)\n",
    "\n",
    "        # 如果第一个参数是函数，这是partial函数，使用部分函数调用\n",
    "        fn = args[0]\n",
    "        num_args2 = fn.__code__.co_argcount\n",
    "\n",
    "        # 如果fn函数不需要参数，说明fn是curry_partial函数\n",
    "        if num_args2 == 0:\n",
    "            return fn(*all_args)\n",
    "\n",
    "        if len(all_args) >= num_args2:\n",
    "            return fn(*all_args[:num_args2])\n",
    "        else:\n",
    "            return curry_partial(fn, *all_args)\n",
    "        \n",
    "    return inner\n",
    "\n",
    "# 定义一个三个数的加法\n",
    "add = lambda a,b,c: a+b+c    \n",
    "a,b,c = 1,2,3\n",
    "\n",
    "# partial调用\n",
    "print(curry_partial(curry_partial(curry_partial(add, a), b), c))\n",
    "\n",
    "# curry调用\n",
    "print(curry_partial(add)(a)(b)(c))"
   ]
  }
 ],
 "metadata": {
  "kernelspec": {
   "display_name": "Python 3",
   "language": "python",
   "name": "python3"
  },
  "language_info": {
   "codemirror_mode": {
    "name": "ipython",
    "version": 3
   },
   "file_extension": ".py",
   "mimetype": "text/x-python",
   "name": "python",
   "nbconvert_exporter": "python",
   "pygments_lexer": "ipython3",
   "version": "3.12.0"
  }
 },
 "nbformat": 4,
 "nbformat_minor": 2
}
