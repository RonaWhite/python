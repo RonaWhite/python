{
 "cells": [
  {
   "cell_type": "markdown",
   "metadata": {},
   "source": [
    "### 一、变量和简单数据类型练习\n",
    "#### 2-1 简单消息"
   ]
  },
  {
   "cell_type": "code",
   "execution_count": 1,
   "metadata": {},
   "outputs": [
    {
     "name": "stdout",
     "output_type": "stream",
     "text": [
      "Hello World!\n"
     ]
    }
   ],
   "source": [
    "tmp = \"Hello World!\"\n",
    "print(tmp)"
   ]
  },
  {
   "cell_type": "markdown",
   "metadata": {},
   "source": [
    "#### 2-2 多条简单消息"
   ]
  },
  {
   "cell_type": "code",
   "execution_count": 2,
   "metadata": {},
   "outputs": [
    {
     "name": "stdout",
     "output_type": "stream",
     "text": [
      "Hello World!\n",
      "Hello Python!\n"
     ]
    }
   ],
   "source": [
    "tmp = \"Hello World!\"\n",
    "print(tmp)\n",
    "\n",
    "tmp = \"Hello Python!\"\n",
    "print(tmp)"
   ]
  },
  {
   "cell_type": "markdown",
   "metadata": {},
   "source": [
    "#### 2-3 个性化消息"
   ]
  },
  {
   "cell_type": "code",
   "execution_count": 3,
   "metadata": {},
   "outputs": [
    {
     "name": "stdout",
     "output_type": "stream",
     "text": [
      "Hello Eric, would you like to learn some Python today?\n"
     ]
    }
   ],
   "source": [
    "name = \"Eric\"\n",
    "message = \"Hello \" + name.title() + \", would you like to learn some Python today?\"\n",
    "print(message)"
   ]
  },
  {
   "cell_type": "markdown",
   "metadata": {},
   "source": [
    "#### 2-4 调整名字的大小写"
   ]
  },
  {
   "cell_type": "code",
   "execution_count": 4,
   "metadata": {},
   "outputs": [
    {
     "name": "stdout",
     "output_type": "stream",
     "text": [
      "Rona\n",
      "RONA\n",
      "rona\n"
     ]
    }
   ],
   "source": [
    "name = \"Rona\"\n",
    "print(name.title())   \n",
    "print(name.upper())   \n",
    "print(name.lower())  "
   ]
  },
  {
   "cell_type": "markdown",
   "metadata": {},
   "source": [
    "#### 2-5 名言1"
   ]
  },
  {
   "cell_type": "code",
   "execution_count": 5,
   "metadata": {},
   "outputs": [
    {
     "name": "stdout",
     "output_type": "stream",
     "text": [
      "Albert Einstein once said, \"A person who never made a mistake never tried anything new.\"\n"
     ]
    }
   ],
   "source": [
    "first_name = \"Albert\"\n",
    "last_name = \"Einstein\"\n",
    "full_name = first_name.title() + \" \" + last_name.title()\n",
    "message = full_name + ' once said, \"A person who never made a mistake never tried anything new.\"'\n",
    "print(message)"
   ]
  },
  {
   "cell_type": "markdown",
   "metadata": {},
   "source": [
    "#### 2-6 名言2"
   ]
  },
  {
   "cell_type": "code",
   "execution_count": 6,
   "metadata": {},
   "outputs": [
    {
     "name": "stdout",
     "output_type": "stream",
     "text": [
      "Albert Einstein once said,\"A person who never made a mistake never tried anything new.\"\n"
     ]
    }
   ],
   "source": [
    "famous_person =\"Albert Einstein\"\n",
    "message = \"A person who never made a mistake never tried anything new.\"\n",
    "print (famous_person+' once said,\"'+ message +'\"')"
   ]
  },
  {
   "cell_type": "markdown",
   "metadata": {},
   "source": [
    "#### 2-7 剔除人名中的空白"
   ]
  },
  {
   "cell_type": "code",
   "execution_count": 7,
   "metadata": {},
   "outputs": [
    {
     "name": "stdout",
     "output_type": "stream",
     "text": [
      "原始人名: \n",
      "\tJohn Doe\t\n",
      "\n",
      "使用lstrip()剔除开头的空白： John Doe\t\n",
      "\n",
      "使用rstrip()剔除末尾的空白: \n",
      "\tJohn Doe\n",
      "使用strip()剔除开头和末尾的空白： John Doe\n"
     ]
    }
   ],
   "source": [
    "person_name = \"\\n\\tJohn Doe\\t\\n\"\n",
    "\n",
    "# 打印带有开头和末尾空白的人名\n",
    "print(\"原始人名:\", person_name)\n",
    "\n",
    "# 使用lstrip()剔除开头的空白\n",
    "person_name_lstrip = person_name.lstrip()\n",
    "print(\"使用lstrip()剔除开头的空白：\", person_name_lstrip)\n",
    "\n",
    "# 使用rstrip()剔除末尾的空白\n",
    "person_name_rstrip = person_name.rstrip()\n",
    "print(\"使用rstrip()剔除末尾的空白:\", person_name_rstrip)\n",
    "\n",
    "# 使用strip()剔除开头和末尾的空白\n",
    "person_name_strip = person_name.strip()\n",
    "print(\"使用strip()剔除开头和末尾的空白：\", person_name_strip)"
   ]
  },
  {
   "cell_type": "markdown",
   "metadata": {},
   "source": [
    "#### 2-8 文件扩展名"
   ]
  },
  {
   "cell_type": "code",
   "execution_count": 8,
   "metadata": {},
   "outputs": [
    {
     "name": "stdout",
     "output_type": "stream",
     "text": [
      "File name without extension: python_notes\n"
     ]
    }
   ],
   "source": [
    "filename = \"python_notes.txt\"\n",
    "filename_without_extension = filename.removesuffix(\".txt\")\n",
    "\n",
    "print(\"File name without extension:\", filename_without_extension)"
   ]
  },
  {
   "cell_type": "markdown",
   "metadata": {},
   "source": [
    "#### 2-9 数字8"
   ]
  },
  {
   "cell_type": "code",
   "execution_count": 9,
   "metadata": {},
   "outputs": [
    {
     "name": "stdout",
     "output_type": "stream",
     "text": [
      "8\n",
      "8\n",
      "8\n",
      "8\n"
     ]
    }
   ],
   "source": [
    "print(4+4)\n",
    "print(10-2)\n",
    "print(2*4)\n",
    "print(16//2)"
   ]
  },
  {
   "cell_type": "markdown",
   "metadata": {},
   "source": [
    "#### 2-10 最喜欢的数"
   ]
  },
  {
   "cell_type": "code",
   "execution_count": 10,
   "metadata": {},
   "outputs": [
    {
     "name": "stdout",
     "output_type": "stream",
     "text": [
      "我最喜欢的数是17\n"
     ]
    }
   ],
   "source": [
    "number = 17\n",
    "message = \"我最喜欢的数是\"+str(number)\n",
    "print(message)"
   ]
  },
  {
   "cell_type": "markdown",
   "metadata": {},
   "source": [
    "#### 2-12 Python之禅"
   ]
  },
  {
   "cell_type": "code",
   "execution_count": 11,
   "metadata": {},
   "outputs": [
    {
     "name": "stdout",
     "output_type": "stream",
     "text": [
      "The Zen of Python, by Tim Peters\n",
      "\n",
      "Beautiful is better than ugly.\n",
      "Explicit is better than implicit.\n",
      "Simple is better than complex.\n",
      "Complex is better than complicated.\n",
      "Flat is better than nested.\n",
      "Sparse is better than dense.\n",
      "Readability counts.\n",
      "Special cases aren't special enough to break the rules.\n",
      "Although practicality beats purity.\n",
      "Errors should never pass silently.\n",
      "Unless explicitly silenced.\n",
      "In the face of ambiguity, refuse the temptation to guess.\n",
      "There should be one-- and preferably only one --obvious way to do it.\n",
      "Although that way may not be obvious at first unless you're Dutch.\n",
      "Now is better than never.\n",
      "Although never is often better than *right* now.\n",
      "If the implementation is hard to explain, it's a bad idea.\n",
      "If the implementation is easy to explain, it may be a good idea.\n",
      "Namespaces are one honking great idea -- let's do more of those!\n"
     ]
    }
   ],
   "source": [
    "import this"
   ]
  },
  {
   "cell_type": "markdown",
   "metadata": {},
   "source": [
    "### 二、Codewars Kata挑战\n",
    "#### 第1题:求离整数n最近的平方数（Find Nearest square number）"
   ]
  },
  {
   "cell_type": "code",
   "execution_count": 12,
   "metadata": {},
   "outputs": [],
   "source": [
    "import math  # 导入math模块以便使用数学函数\n",
    "\n",
    "def nearest_sq(n):\n",
    "    # 计算n的平方根\n",
    "    sqrt_n = math.isqrt(n)\n",
    "    \n",
    "    # 检查最接近n的两个平方数：sqrt_n^2 和 (sqrt_n + 1)^2\n",
    "    lower_square = sqrt_n ** 2  # 小于或等于n的最大平方数\n",
    "    upper_square = (sqrt_n + 1) ** 2  # 大于n的最小平方数\n",
    "    \n",
    "    # 返回最接近的平方数\n",
    "    if abs(n - lower_square) <= abs(n - upper_square):\n",
    "        return lower_square\n",
    "    else:\n",
    "        return upper_square"
   ]
  },
  {
   "cell_type": "markdown",
   "metadata": {},
   "source": [
    "#### 第2题:弹跳的球（Bouncing Balls）"
   ]
  },
  {
   "cell_type": "code",
   "execution_count": 13,
   "metadata": {},
   "outputs": [],
   "source": [
    "def bouncing_ball(h, bounce, window):\n",
    "    # 检查输入条件是否有效\n",
    "    if not (h > 0 and 0 < bounce < 1 and window < h):\n",
    "        return -1\n",
    "    \n",
    "    passes = 0  # 记录通过窗户的次数\n",
    "    \n",
    "    while h > window:\n",
    "        passes += 1  # 小球在下落时通过窗户\n",
    "        h *= bounce  # 小球弹起\n",
    "        \n",
    "        if h > window:\n",
    "            passes += 1  # 小球在弹起时通过窗户\n",
    "        \n",
    "    return passes"
   ]
  },
  {
   "cell_type": "markdown",
   "metadata": {},
   "source": [
    "#### 第3题:元音统计(Vowel Count)"
   ]
  },
  {
   "cell_type": "code",
   "execution_count": 14,
   "metadata": {},
   "outputs": [],
   "source": [
    "def get_count(sentence): \n",
    "    # 定义元音字母集合\n",
    "    vowels = {'a', 'e', 'i', 'o', 'u'}\n",
    "\n",
    "    # 初始化计数器\n",
    "    count = 0\n",
    "\n",
    "    # 遍历字符串中的每个字符\n",
    "    for char in sentence:\n",
    "        # 如果字符是元音字母，计数器加1\n",
    "        if char in vowels:\n",
    "            count += 1\n",
    "\n",
    "    return count"
   ]
  },
  {
   "cell_type": "markdown",
   "metadata": {},
   "source": [
    "#### 第4题:偶数或者奇数（Even or Odd）"
   ]
  },
  {
   "cell_type": "code",
   "execution_count": 15,
   "metadata": {},
   "outputs": [],
   "source": [
    "def even_or_odd(number):\n",
    "    # 检查给定的数字是否为偶数\n",
    "    if number % 2 == 0:\n",
    "        return \"Even\"  # 如果是偶数，返回字符串 \"Even\"\n",
    "    else:\n",
    "        return \"Odd\"  # 如果是奇数，返回字符串 \"Odd\""
   ]
  }
 ],
 "metadata": {
  "kernelspec": {
   "display_name": "Python 3",
   "language": "python",
   "name": "python3"
  },
  "language_info": {
   "codemirror_mode": {
    "name": "ipython",
    "version": 3
   },
   "file_extension": ".py",
   "mimetype": "text/x-python",
   "name": "python",
   "nbconvert_exporter": "python",
   "pygments_lexer": "ipython3",
   "version": "3.12.0"
  }
 },
 "nbformat": 4,
 "nbformat_minor": 2
}
